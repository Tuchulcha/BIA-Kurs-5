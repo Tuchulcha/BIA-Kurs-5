{
 "cells": [
  {
   "cell_type": "code",
   "execution_count": 1,
   "id": "4b9ffbcb",
   "metadata": {},
   "outputs": [],
   "source": [
    "#Dependencies\n",
    "import pandas as pd"
   ]
  },
  {
   "cell_type": "code",
   "execution_count": 4,
   "id": "28f49b56",
   "metadata": {},
   "outputs": [],
   "source": [
    "#Datumtabell\n",
    "\n",
    "# Create date range\n",
    "date_range = pd.date_range(start='2000-01-01', end='2001-12-31', freq='D')\n",
    "\n",
    "# Create DataFrame\n",
    "df = pd.DataFrame(date_range, columns=['Date'])\n",
    "\n",
    "# Add various date parts\n",
    "df['Year'] = df['Date'].dt.year\n",
    "df['Month'] = df['Date'].dt.month\n",
    "df['Day'] = df['Date'].dt.day\n",
    "df['Quarter'] = df['Date'].dt.quarter\n",
    "df['Weekday'] = df['Date'].dt.weekday\n",
    "df['WeekOfYear'] = df['Date'].dt.isocalendar().week\n",
    "\n",
    "# Create some custom columns\n",
    "df['IsWeekend'] = df['Weekday'].apply(lambda x: 1 if x >= 5 else 0)\n",
    "df['IsHoliday'] = 0  # You can add your own logic here\n",
    "df['MonthName'] = df['Date'].dt.strftime('%B')\n",
    "df['DayName'] = df['Date'].dt.strftime('%A')\n",
    "\n",
    "# Uncomment to save to a CSV\n",
    "# df.to_csv('Dim_Date.csv', index=False)"
   ]
  },
  {
   "cell_type": "code",
   "execution_count": null,
   "id": "ae9349f6",
   "metadata": {},
   "outputs": [],
   "source": []
  }
 ],
 "metadata": {
  "kernelspec": {
   "display_name": "Python 3 (ipykernel)",
   "language": "python",
   "name": "python3"
  },
  "language_info": {
   "codemirror_mode": {
    "name": "ipython",
    "version": 3
   },
   "file_extension": ".py",
   "mimetype": "text/x-python",
   "name": "python",
   "nbconvert_exporter": "python",
   "pygments_lexer": "ipython3",
   "version": "3.11.4"
  }
 },
 "nbformat": 4,
 "nbformat_minor": 5
}
