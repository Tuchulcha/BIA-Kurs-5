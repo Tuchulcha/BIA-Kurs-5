{
 "cells": [
  {
   "cell_type": "markdown",
   "id": "bffb2890",
   "metadata": {},
   "source": [
    "Den här är för att committa & pusha till github"
   ]
  },
  {
   "cell_type": "code",
   "execution_count": 1,
   "id": "2cb69d96",
   "metadata": {},
   "outputs": [],
   "source": [
    "import subprocess\n",
    "\n",
    "def run_command(command_list):\n",
    "    try:\n",
    "        result = subprocess.run(command_list, stdout=subprocess.PIPE, stderr=subprocess.PIPE, text=True, check=True)\n",
    "        print(f\"Success:\\n{result.stdout}\")\n",
    "    except subprocess.CalledProcessError as e:\n",
    "        print(f\"Failed:\\n{e.stderr}\")\n",
    "\n",
    "# Function to change the remote URL to SSH\n",
    "def set_ssh_remote_url(url=\"git@github.com:Tuchulcha/BIA-Kurs-5.git\"):\n",
    "    run_command([\"git\", \"remote\", \"set-url\", \"origin\", url])"
   ]
  },
  {
   "cell_type": "code",
   "execution_count": 2,
   "id": "0bbb9c02",
   "metadata": {},
   "outputs": [],
   "source": [
    "# Function to commit and push\n",
    "def commit_and_push(message=\"Updated notebook\", branch=\"master\"):\n",
    "    run_command([\"git\", \"add\", \".\"])\n",
    "    run_command([\"git\", \"commit\", \"-m\", message])\n",
    "    run_command([\"git\", \"push\", \"origin\", branch])"
   ]
  },
  {
   "cell_type": "code",
   "execution_count": null,
   "id": "c6fb0ec5",
   "metadata": {},
   "outputs": [
    {
     "name": "stdout",
     "output_type": "stream",
     "text": [
      "Success:\n",
      "\n",
      "Success:\n",
      "\n",
      "Success:\n",
      "[master 22c3943] Made some awesome changes\n",
      " 17 files changed, 1087402 insertions(+), 39 deletions(-)\n",
      " create mode 100644 Gruppuppgift/.ipynb_checkpoints/Inventory Generation FingDone! - With Counter- MOJO-checkpoint.ipynb\n",
      " create mode 100644 Gruppuppgift/20230923Fest/.ipynb_checkpoints/Generate FactInternetSales Vector Version-checkpoint.ipynb\n",
      " create mode 100644 Gruppuppgift/20230923Fest/.ipynb_checkpoints/Generate FactInternetSales-checkpoint.ipynb\n",
      " create mode 100644 Gruppuppgift/20230923Fest/DimDate.csv\n",
      " create mode 100644 Gruppuppgift/20230923Fest/DimProducts.csv\n",
      " create mode 100644 Gruppuppgift/20230923Fest/FactInternetSalesByVector.csv\n",
      " create mode 100644 Gruppuppgift/20230923Fest/FactProductInventory.csv\n",
      " create mode 100644 Gruppuppgift/20230923Fest/Generate FactInternetSales Vector Version.ipynb\n",
      " create mode 100644 Gruppuppgift/20230923Fest/Generate FactInternetSales.ipynb\n",
      " create mode 100644 Gruppuppgift/Inventory Generation FingDone! - With Counter- MOJO.ipynb\n",
      " create mode 100644 Gruppuppgift/inventory_Patronik2017-2022.csv\n",
      " create mode 100644 Gruppuppgift/patronik_FactInventory_2017-01-01-2017-01-31_1.csv\n",
      " create mode 100644 Gruppuppgift/patronik_FactInventory_2017-01-01-2017-01-31_2.csv\n",
      " create mode 100644 Gruppuppgift/patronik_FactInventory_2017-01-01-2017-01-31_3.csv\n",
      "\n"
     ]
    }
   ],
   "source": [
    "# First, set the remote URL to SSH\n",
    "set_ssh_remote_url()\n",
    "# Then, commit and push\n",
    "commit_and_push(\"Made some awesome changes\", \"master\")"
   ]
  },
  {
   "cell_type": "code",
   "execution_count": null,
   "id": "4583651a",
   "metadata": {},
   "outputs": [],
   "source": []
  }
 ],
 "metadata": {
  "kernelspec": {
   "display_name": "Python 3 (ipykernel)",
   "language": "python",
   "name": "python3"
  },
  "language_info": {
   "codemirror_mode": {
    "name": "ipython",
    "version": 3
   },
   "file_extension": ".py",
   "mimetype": "text/x-python",
   "name": "python",
   "nbconvert_exporter": "python",
   "pygments_lexer": "ipython3",
   "version": "3.11.4"
  }
 },
 "nbformat": 4,
 "nbformat_minor": 5
}
