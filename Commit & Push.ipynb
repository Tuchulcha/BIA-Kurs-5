{
 "cells": [
  {
   "cell_type": "markdown",
   "id": "bffb2890",
   "metadata": {},
   "source": [
    "Den här är för att committa & pusha till github"
   ]
  },
  {
   "cell_type": "code",
   "execution_count": 1,
   "id": "2cb69d96",
   "metadata": {},
   "outputs": [],
   "source": [
    "import subprocess\n",
    "\n",
    "def run_command(command_list):\n",
    "    try:\n",
    "        result = subprocess.run(command_list, stdout=subprocess.PIPE, stderr=subprocess.PIPE, text=True, check=True)\n",
    "        print(f\"Success:\\n{result.stdout}\")\n",
    "    except subprocess.CalledProcessError as e:\n",
    "        print(f\"Failed:\\n{e.stderr}\")\n",
    "\n",
    "# Function to change the remote URL to SSH\n",
    "def set_ssh_remote_url(url=\"git@github.com:Tuchulcha/BIA-Kurs-5.git\"):\n",
    "    run_command([\"git\", \"remote\", \"set-url\", \"origin\", url])"
   ]
  },
  {
   "cell_type": "code",
   "execution_count": 2,
   "id": "0bbb9c02",
   "metadata": {},
   "outputs": [],
   "source": [
    "# Function to commit and push\n",
    "def commit_and_push(message=\"Updated notebook\", branch=\"master\"):\n",
    "    run_command([\"git\", \"add\", \".\"])\n",
    "    run_command([\"git\", \"commit\", \"-m\", message])\n",
    "    run_command([\"git\", \"push\", \"origin\", branch])"
   ]
  },
  {
   "cell_type": "code",
   "execution_count": 3,
   "id": "c6fb0ec5",
   "metadata": {},
   "outputs": [
    {
     "name": "stdout",
     "output_type": "stream",
     "text": [
      "Success:\n",
      "\n",
      "Success:\n",
      "\n",
      "Success:\n",
      "[master 46fc8b3] Made some awesome changes\n",
      " 26 files changed, 1421 insertions(+), 28 deletions(-)\n",
      " rename DatasetNotebooks/.ipynb_checkpoints/Kaffe&Prod 2-checkpoint.ipynb => \"F\\303\\266rel\\303\\244sningsHackande/.ipynb_checkpoints/Kaffe&Prod 2-checkpoint.ipynb\" (100%)\n",
      " rename DatasetNotebooks/.ipynb_checkpoints/Linus Kaffe -checkpoint.ipynb => \"F\\303\\266rel\\303\\244sningsHackande/.ipynb_checkpoints/Linus Kaffe -checkpoint.ipynb\" (100%)\n",
      " rename DatasetNotebooks/.ipynb_checkpoints/Numpy exempel-checkpoint.ipynb => \"F\\303\\266rel\\303\\244sningsHackande/.ipynb_checkpoints/Numpy exempel-checkpoint.ipynb\" (100%)\n",
      " rename DatasetNotebooks/.ipynb_checkpoints/Stop and gooo-checkpoint.ipynb => \"F\\303\\266rel\\303\\244sningsHackande/.ipynb_checkpoints/Stop and gooo-checkpoint.ipynb\" (100%)\n",
      " rename \"DatasetNotebooks/.ipynb_checkpoints/\\303\\226vn 4 - Generera och Visualisera-checkpoint.ipynb\" => \"F\\303\\266rel\\303\\244sningsHackande/.ipynb_checkpoints/\\303\\226vn 4 - Generera och Visualisera-checkpoint.ipynb\" (100%)\n",
      " rename \"DatasetNotebooks/.ipynb_checkpoints/\\303\\226vn 4 Kaffe och Prod-checkpoint.ipynb\" => \"F\\303\\266rel\\303\\244sningsHackande/.ipynb_checkpoints/\\303\\226vn 4 Kaffe och Prod-checkpoint.ipynb\" (100%)\n",
      " create mode 100644 \"F\\303\\266rel\\303\\244sningsHackande/20230921/.ipynb_checkpoints/Generera&VisualiseraData-checkpoint.ipynb\"\n",
      " create mode 100644 \"F\\303\\266rel\\303\\244sningsHackande/20230921/Generera&VisualiseraData.ipynb\"\n",
      " rename DatasetNotebooks/Kaffe&Prod 2.ipynb => \"F\\303\\266rel\\303\\244sningsHackande/Kaffe&Prod 2.ipynb\" (100%)\n",
      " rename DatasetNotebooks/Linus Kaffe .ipynb => \"F\\303\\266rel\\303\\244sningsHackande/Linus Kaffe .ipynb\" (100%)\n",
      " rename DatasetNotebooks/Numpy exempel.ipynb => \"F\\303\\266rel\\303\\244sningsHackande/Numpy exempel.ipynb\" (100%)\n",
      " rename DatasetNotebooks/Stop and gooo.ipynb => \"F\\303\\266rel\\303\\244sningsHackande/Stop and gooo.ipynb\" (100%)\n",
      " rename DatasetNotebooks/customer_data.csv => \"F\\303\\266rel\\303\\244sningsHackande/customer_data.csv\" (100%)\n",
      " rename DatasetNotebooks/customer_data2.csv => \"F\\303\\266rel\\303\\244sningsHackande/customer_data2.csv\" (100%)\n",
      " rename DatasetNotebooks/explore_customers.ipynb => \"F\\303\\266rel\\303\\244sningsHackande/explore_customers.ipynb\" (100%)\n",
      " rename DatasetNotebooks/generate_data.py => \"F\\303\\266rel\\303\\244sningsHackande/generate_data.py\" (100%)\n",
      " rename DatasetNotebooks/generate_products.py => \"F\\303\\266rel\\303\\244sningsHackande/generate_products.py\" (100%)\n",
      " rename DatasetNotebooks/notebook_1.ipynb => \"F\\303\\266rel\\303\\244sningsHackande/notebook_1.ipynb\" (100%)\n",
      " rename DatasetNotebooks/o4-generera-visualisera.pdf => \"F\\303\\266rel\\303\\244sningsHackande/o4-generera-visualisera.pdf\" (100%)\n",
      " rename DatasetNotebooks/product_data.csv => \"F\\303\\266rel\\303\\244sningsHackande/product_data.csv\" (100%)\n",
      " rename DatasetNotebooks/product_data2.csv => \"F\\303\\266rel\\303\\244sningsHackande/product_data2.csv\" (100%)\n",
      " create mode 100644 \"F\\303\\266rel\\303\\244sningsHackande/untitled.txt\"\n",
      " rename DatasetNotebooks/visualize_clean_data.ipynb => \"F\\303\\266rel\\303\\244sningsHackande/visualize_clean_data.ipynb\" (100%)\n",
      " rename \"DatasetNotebooks/\\303\\226vn 4 - Generera och Visualisera.ipynb\" => \"F\\303\\266rel\\303\\244sningsHackande/\\303\\226vn 4 - Generera och Visualisera.ipynb\" (100%)\n",
      " rename \"DatasetNotebooks/\\303\\226vn 4 Kaffe och Prod.ipynb\" => \"F\\303\\266rel\\303\\244sningsHackande/\\303\\226vn 4 Kaffe och Prod.ipynb\" (100%)\n",
      "\n",
      "Failed:\n",
      "To github.com:Tuchulcha/BIA-Kurs-5.git\n",
      " ! [rejected]        master -> master (fetch first)\n",
      "error: failed to push some refs to 'github.com:Tuchulcha/BIA-Kurs-5.git'\n",
      "hint: Updates were rejected because the remote contains work that you do not\n",
      "hint: have locally. This is usually caused by another repository pushing to\n",
      "hint: the same ref. If you want to integrate the remote changes, use\n",
      "hint: 'git pull' before pushing again.\n",
      "hint: See the 'Note about fast-forwards' in 'git push --help' for details.\n",
      "\n"
     ]
    }
   ],
   "source": [
    "# First, set the remote URL to SSH\n",
    "set_ssh_remote_url()\n",
    "# Then, commit and push\n",
    "commit_and_push(\"Made some awesome changes\", \"master\")"
   ]
  },
  {
   "cell_type": "code",
   "execution_count": null,
   "id": "4583651a",
   "metadata": {},
   "outputs": [],
   "source": []
  }
 ],
 "metadata": {
  "kernelspec": {
   "display_name": "Python 3 (ipykernel)",
   "language": "python",
   "name": "python3"
  },
  "language_info": {
   "codemirror_mode": {
    "name": "ipython",
    "version": 3
   },
   "file_extension": ".py",
   "mimetype": "text/x-python",
   "name": "python",
   "nbconvert_exporter": "python",
   "pygments_lexer": "ipython3",
   "version": "3.11.4"
  }
 },
 "nbformat": 4,
 "nbformat_minor": 5
}
