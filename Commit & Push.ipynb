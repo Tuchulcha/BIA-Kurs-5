{
 "cells": [
  {
   "cell_type": "markdown",
   "id": "bffb2890",
   "metadata": {},
   "source": [
    "Den här är för att committa & pusha till github"
   ]
  },
  {
   "cell_type": "code",
   "execution_count": 1,
   "id": "2cb69d96",
   "metadata": {},
   "outputs": [],
   "source": [
    "import subprocess\n",
    "\n",
    "def run_command(command_list):\n",
    "    try:\n",
    "        result = subprocess.run(command_list, stdout=subprocess.PIPE, stderr=subprocess.PIPE, text=True, check=True)\n",
    "        print(f\"Success:\\n{result.stdout}\")\n",
    "    except subprocess.CalledProcessError as e:\n",
    "        print(f\"Failed:\\n{e.stderr}\")\n"
   ]
  },
  {
   "cell_type": "code",
   "execution_count": 2,
   "id": "0bbb9c02",
   "metadata": {},
   "outputs": [],
   "source": [
    "def commit_and_push(message=\"Updated notebook\", branch=\"master\"):\n",
    "    run_command([\"git\", \"add\", \".\"])\n",
    "    run_command([\"git\", \"commit\", \"-m\", message])\n",
    "    run_command([\"git\", \"push\", \"origin\", branch])"
   ]
  },
  {
   "cell_type": "code",
   "execution_count": 3,
   "id": "c6fb0ec5",
   "metadata": {},
   "outputs": [
    {
     "name": "stdout",
     "output_type": "stream",
     "text": [
      "Success:\n",
      "\n",
      "Success:\n",
      "[master 345c2e9] Made some awesome changes\n",
      " 4 files changed, 124 insertions(+), 9 deletions(-)\n",
      " rename .ipynb_checkpoints/{Git my hits up-checkpoint.ipynb => Commit & Push-checkpoint.ipynb} (100%)\n",
      " create mode 100644 .ipynb_checkpoints/Skapa git repository, committa och pusha till github-checkpoint.ipynb\n",
      " create mode 100644 Commit & Push.ipynb\n",
      " rename Git my hits up.ipynb => Skapa git repository, committa och pusha till github.ipynb (70%)\n",
      "\n",
      "Failed:\n",
      "remote: Permission to Tuchulcha/BIA-Kurs-5.git denied to Tuchulcha.\n",
      "fatal: unable to access 'https://github.com/Tuchulcha/BIA-Kurs-5.git/': The requested URL returned error: 403\n",
      "\n"
     ]
    }
   ],
   "source": [
    "commit_and_push(\"Made some awesome changes\", \"master\")"
   ]
  }
 ],
 "metadata": {
  "kernelspec": {
   "display_name": "Python 3 (ipykernel)",
   "language": "python",
   "name": "python3"
  },
  "language_info": {
   "codemirror_mode": {
    "name": "ipython",
    "version": 3
   },
   "file_extension": ".py",
   "mimetype": "text/x-python",
   "name": "python",
   "nbconvert_exporter": "python",
   "pygments_lexer": "ipython3",
   "version": "3.11.4"
  }
 },
 "nbformat": 4,
 "nbformat_minor": 5
}
