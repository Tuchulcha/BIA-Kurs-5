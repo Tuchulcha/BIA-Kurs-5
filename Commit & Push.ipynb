{
 "cells": [
  {
   "cell_type": "markdown",
   "id": "e9de3808",
   "metadata": {},
   "source": [
    "Den här är för att pulla / committa & pusha till github"
   ]
  },
  {
   "cell_type": "code",
   "execution_count": 1,
   "id": "fdb596b0",
   "metadata": {},
   "outputs": [],
   "source": [
    "import subprocess\n",
    "\n",
    "def run_command(command_list):\n",
    "    try:\n",
    "        result = subprocess.run(command_list, stdout=subprocess.PIPE, stderr=subprocess.PIPE, text=True, check=True)\n",
    "        print(f\"Success:\\n{result.stdout}\")\n",
    "    except subprocess.CalledProcessError as e:\n",
    "        print(f\"Failed:\\n{e.stderr}\")\n"
   ]
  },
  {
   "cell_type": "code",
   "execution_count": null,
   "id": "5e1fdcb7",
   "metadata": {},
   "outputs": [],
   "source": [
    "def commit_and_push(message=\"Updated notebook\", branch=\"master\"):\n",
    "    run_command([\"git\", \"add\", \".\"])\n",
    "    run_command([\"git\", \"commit\", \"-m\", message])\n",
    "    run_command([\"git\", \"push\", \"origin\", branch])"
   ]
  },
  {
   "cell_type": "code",
   "execution_count": null,
   "id": "5b6187f1",
   "metadata": {},
   "outputs": [],
   "source": [
    "commit_and_push(\"Made some awesome changes\", \"master\")"
   ]
  },
  {
   "cell_type": "code",
   "execution_count": 2,
   "id": "a172ff5c",
   "metadata": {},
   "outputs": [],
   "source": [
    "def pull_latest(branch=\"master\"):\n",
    "    run_command([\"git\", \"pull\", \"origin\", branch])"
   ]
  },
  {
   "cell_type": "code",
   "execution_count": null,
   "id": "35a873ef",
   "metadata": {},
   "outputs": [],
   "source": [
    "pull_latest(\"master\")"
   ]
  }
 ],
 "metadata": {
  "kernelspec": {
   "display_name": "Python 3 (ipykernel)",
   "language": "python",
   "name": "python3"
  },
  "language_info": {
   "codemirror_mode": {
    "name": "ipython",
    "version": 3
   },
   "file_extension": ".py",
   "mimetype": "text/x-python",
   "name": "python",
   "nbconvert_exporter": "python",
   "pygments_lexer": "ipython3",
   "version": "3.11.4"
  }
 },
 "nbformat": 4,
 "nbformat_minor": 5
}
