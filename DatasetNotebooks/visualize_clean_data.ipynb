{
 "cells": [
  {
   "cell_type": "markdown",
   "id": "c297517d",
   "metadata": {},
   "source": [
    "# Visualisera / Rensa data\n",
    "\n",
    "Här kommer lite exempel på hur vi kan jobba med och utforska data i Jupyter notebook\n",
    "\n",
    "## 1. Ladda data\n",
    "\n",
    "Först laddar vi och visar `customer_data.csv`"
   ]
  },
  {
   "cell_type": "code",
   "execution_count": 1,
   "id": "2aec6c86",
   "metadata": {},
   "outputs": [
    {
     "data": {
      "text/html": [
       "<div>\n",
       "<style scoped>\n",
       "    .dataframe tbody tr th:only-of-type {\n",
       "        vertical-align: middle;\n",
       "    }\n",
       "\n",
       "    .dataframe tbody tr th {\n",
       "        vertical-align: top;\n",
       "    }\n",
       "\n",
       "    .dataframe thead th {\n",
       "        text-align: right;\n",
       "    }\n",
       "</style>\n",
       "<table border=\"1\" class=\"dataframe\">\n",
       "  <thead>\n",
       "    <tr style=\"text-align: right;\">\n",
       "      <th></th>\n",
       "      <th>customer_id</th>\n",
       "      <th>name</th>\n",
       "      <th>email</th>\n",
       "      <th>age</th>\n",
       "      <th>purchase_frequency</th>\n",
       "      <th>phone</th>\n",
       "    </tr>\n",
       "  </thead>\n",
       "  <tbody>\n",
       "    <tr>\n",
       "      <th>0</th>\n",
       "      <td>1</td>\n",
       "      <td>Sundar Torvalds</td>\n",
       "      <td>invalid_email</td>\n",
       "      <td>5.0</td>\n",
       "      <td>low</td>\n",
       "      <td>0722-250865</td>\n",
       "    </tr>\n",
       "    <tr>\n",
       "      <th>1</th>\n",
       "      <td>2</td>\n",
       "      <td>Jeff Pichai</td>\n",
       "      <td>invalid_email</td>\n",
       "      <td>51.0</td>\n",
       "      <td>high</td>\n",
       "      <td>0776-947453</td>\n",
       "    </tr>\n",
       "    <tr>\n",
       "      <th>2</th>\n",
       "      <td>3</td>\n",
       "      <td>Larry Page</td>\n",
       "      <td>larry.page@example.com</td>\n",
       "      <td>32.0</td>\n",
       "      <td>low</td>\n",
       "      <td>0721-396539</td>\n",
       "    </tr>\n",
       "    <tr>\n",
       "      <th>3</th>\n",
       "      <td>4</td>\n",
       "      <td>Larry Gates</td>\n",
       "      <td>larry.gates@example.com</td>\n",
       "      <td>53.0</td>\n",
       "      <td>high</td>\n",
       "      <td>0796-822934</td>\n",
       "    </tr>\n",
       "    <tr>\n",
       "      <th>4</th>\n",
       "      <td>5</td>\n",
       "      <td>Elon Pichai</td>\n",
       "      <td>elon.pichai@example.com</td>\n",
       "      <td>96.0</td>\n",
       "      <td>high</td>\n",
       "      <td>0713-495189</td>\n",
       "    </tr>\n",
       "  </tbody>\n",
       "</table>\n",
       "</div>"
      ],
      "text/plain": [
       "   customer_id             name                    email   age  \\\n",
       "0            1  Sundar Torvalds            invalid_email   5.0   \n",
       "1            2      Jeff Pichai            invalid_email  51.0   \n",
       "2            3       Larry Page   larry.page@example.com  32.0   \n",
       "3            4      Larry Gates  larry.gates@example.com  53.0   \n",
       "4            5      Elon Pichai  elon.pichai@example.com  96.0   \n",
       "\n",
       "  purchase_frequency        phone  \n",
       "0                low  0722-250865  \n",
       "1               high  0776-947453  \n",
       "2                low  0721-396539  \n",
       "3               high  0796-822934  \n",
       "4               high  0713-495189  "
      ]
     },
     "execution_count": 1,
     "metadata": {},
     "output_type": "execute_result"
    }
   ],
   "source": [
    "import pandas as pd\n",
    "\n",
    "df_customers = pd.read_csv(\"customer_data.csv\")\n",
    "\n",
    "df_customers.head()"
   ]
  },
  {
   "cell_type": "markdown",
   "id": "5450d917",
   "metadata": {},
   "source": [
    "Sedan laddar vi in `product_data.csv` på samma sätt"
   ]
  },
  {
   "cell_type": "code",
   "execution_count": 2,
   "id": "012975e9",
   "metadata": {},
   "outputs": [
    {
     "data": {
      "text/html": [
       "<div>\n",
       "<style scoped>\n",
       "    .dataframe tbody tr th:only-of-type {\n",
       "        vertical-align: middle;\n",
       "    }\n",
       "\n",
       "    .dataframe tbody tr th {\n",
       "        vertical-align: top;\n",
       "    }\n",
       "\n",
       "    .dataframe thead th {\n",
       "        text-align: right;\n",
       "    }\n",
       "</style>\n",
       "<table border=\"1\" class=\"dataframe\">\n",
       "  <thead>\n",
       "    <tr style=\"text-align: right;\">\n",
       "      <th></th>\n",
       "      <th>product_id</th>\n",
       "      <th>product_name</th>\n",
       "      <th>price</th>\n",
       "      <th>size</th>\n",
       "      <th>color</th>\n",
       "    </tr>\n",
       "  </thead>\n",
       "  <tbody>\n",
       "    <tr>\n",
       "      <th>0</th>\n",
       "      <td>1</td>\n",
       "      <td>Incredible Magnificent Tie</td>\n",
       "      <td>629.0</td>\n",
       "      <td>S</td>\n",
       "      <td>Yellow</td>\n",
       "    </tr>\n",
       "    <tr>\n",
       "      <th>1</th>\n",
       "      <td>2</td>\n",
       "      <td>Amazing Slim Shoes</td>\n",
       "      <td>589.0</td>\n",
       "      <td>M</td>\n",
       "      <td>Blue</td>\n",
       "    </tr>\n",
       "    <tr>\n",
       "      <th>2</th>\n",
       "      <td>3</td>\n",
       "      <td>Large Blue Coat</td>\n",
       "      <td>609.0</td>\n",
       "      <td>L</td>\n",
       "      <td>White</td>\n",
       "    </tr>\n",
       "    <tr>\n",
       "      <th>3</th>\n",
       "      <td>4</td>\n",
       "      <td>Beautiful Beautiful Hat</td>\n",
       "      <td>989.0</td>\n",
       "      <td>S</td>\n",
       "      <td>Black</td>\n",
       "    </tr>\n",
       "    <tr>\n",
       "      <th>4</th>\n",
       "      <td>5</td>\n",
       "      <td>Slimy Slim Gloves</td>\n",
       "      <td>239.0</td>\n",
       "      <td>L</td>\n",
       "      <td>Black</td>\n",
       "    </tr>\n",
       "  </tbody>\n",
       "</table>\n",
       "</div>"
      ],
      "text/plain": [
       "   product_id                product_name  price size   color\n",
       "0           1  Incredible Magnificent Tie  629.0    S  Yellow\n",
       "1           2          Amazing Slim Shoes  589.0    M    Blue\n",
       "2           3             Large Blue Coat  609.0    L   White\n",
       "3           4     Beautiful Beautiful Hat  989.0    S   Black\n",
       "4           5           Slimy Slim Gloves  239.0    L   Black"
      ]
     },
     "execution_count": 2,
     "metadata": {},
     "output_type": "execute_result"
    }
   ],
   "source": [
    "df_products = pd.read_csv(\"product_data.csv\")\n",
    "\n",
    "df_products.head()"
   ]
  },
  {
   "cell_type": "markdown",
   "id": "7f266950",
   "metadata": {},
   "source": [
    "## 2. Utforska data\n",
    "\n",
    "Nu ska vi utforska vad våra datakällor innehåller."
   ]
  },
  {
   "cell_type": "code",
   "execution_count": 4,
   "id": "148c454b",
   "metadata": {},
   "outputs": [
    {
     "name": "stdout",
     "output_type": "stream",
     "text": [
      "<class 'pandas.core.frame.DataFrame'>\n",
      "RangeIndex: 1000 entries, 0 to 999\n",
      "Data columns (total 6 columns):\n",
      " #   Column              Non-Null Count  Dtype  \n",
      "---  ------              --------------  -----  \n",
      " 0   customer_id         1000 non-null   int64  \n",
      " 1   name                1000 non-null   object \n",
      " 2   email               1000 non-null   object \n",
      " 3   age                 808 non-null    float64\n",
      " 4   purchase_frequency  1000 non-null   object \n",
      " 5   phone               1000 non-null   object \n",
      "dtypes: float64(1), int64(1), object(4)\n",
      "memory usage: 47.0+ KB\n"
     ]
    }
   ],
   "source": [
    "df_customers.info()"
   ]
  },
  {
   "cell_type": "markdown",
   "id": "52355c5c",
   "metadata": {},
   "source": [
    "**`3   age                 808 non-null    float64`** <-- 192 ogiltiga värden\n",
    "\n",
    "### Describe\n",
    "\n",
    "Hämta statistik om varje kolumn.\n",
    "\n",
    "Om det finns numerisk kolumner hämtas bara dem, annars hämtas alla."
   ]
  },
  {
   "cell_type": "code",
   "execution_count": 6,
   "id": "b649a0d9",
   "metadata": {},
   "outputs": [
    {
     "data": {
      "text/html": [
       "<div>\n",
       "<style scoped>\n",
       "    .dataframe tbody tr th:only-of-type {\n",
       "        vertical-align: middle;\n",
       "    }\n",
       "\n",
       "    .dataframe tbody tr th {\n",
       "        vertical-align: top;\n",
       "    }\n",
       "\n",
       "    .dataframe thead th {\n",
       "        text-align: right;\n",
       "    }\n",
       "</style>\n",
       "<table border=\"1\" class=\"dataframe\">\n",
       "  <thead>\n",
       "    <tr style=\"text-align: right;\">\n",
       "      <th></th>\n",
       "      <th>customer_id</th>\n",
       "      <th>age</th>\n",
       "    </tr>\n",
       "  </thead>\n",
       "  <tbody>\n",
       "    <tr>\n",
       "      <th>count</th>\n",
       "      <td>1000.000000</td>\n",
       "      <td>808.000000</td>\n",
       "    </tr>\n",
       "    <tr>\n",
       "      <th>mean</th>\n",
       "      <td>500.500000</td>\n",
       "      <td>50.186881</td>\n",
       "    </tr>\n",
       "    <tr>\n",
       "      <th>std</th>\n",
       "      <td>288.819436</td>\n",
       "      <td>28.902408</td>\n",
       "    </tr>\n",
       "    <tr>\n",
       "      <th>min</th>\n",
       "      <td>1.000000</td>\n",
       "      <td>0.000000</td>\n",
       "    </tr>\n",
       "    <tr>\n",
       "      <th>25%</th>\n",
       "      <td>250.750000</td>\n",
       "      <td>25.000000</td>\n",
       "    </tr>\n",
       "    <tr>\n",
       "      <th>50%</th>\n",
       "      <td>500.500000</td>\n",
       "      <td>51.000000</td>\n",
       "    </tr>\n",
       "    <tr>\n",
       "      <th>75%</th>\n",
       "      <td>750.250000</td>\n",
       "      <td>75.000000</td>\n",
       "    </tr>\n",
       "    <tr>\n",
       "      <th>max</th>\n",
       "      <td>1000.000000</td>\n",
       "      <td>100.000000</td>\n",
       "    </tr>\n",
       "  </tbody>\n",
       "</table>\n",
       "</div>"
      ],
      "text/plain": [
       "       customer_id         age\n",
       "count  1000.000000  808.000000\n",
       "mean    500.500000   50.186881\n",
       "std     288.819436   28.902408\n",
       "min       1.000000    0.000000\n",
       "25%     250.750000   25.000000\n",
       "50%     500.500000   51.000000\n",
       "75%     750.250000   75.000000\n",
       "max    1000.000000  100.000000"
      ]
     },
     "execution_count": 6,
     "metadata": {},
     "output_type": "execute_result"
    }
   ],
   "source": [
    "df_customers.describe()"
   ]
  },
  {
   "cell_type": "markdown",
   "id": "d51a8663",
   "metadata": {},
   "source": [
    "### Value counts\n",
    "\n",
    "Visar alla unika värden för en kolumn och visar antalet rader per värde."
   ]
  },
  {
   "cell_type": "code",
   "execution_count": 7,
   "id": "05b7b0bb",
   "metadata": {},
   "outputs": [
    {
     "data": {
      "text/plain": [
       "high      347\n",
       "low       327\n",
       "medium    326\n",
       "Name: purchase_frequency, dtype: int64"
      ]
     },
     "execution_count": 7,
     "metadata": {},
     "output_type": "execute_result"
    }
   ],
   "source": [
    "df_customers[\"purchase_frequency\"].value_counts()"
   ]
  },
  {
   "cell_type": "code",
   "execution_count": 8,
   "id": "e1f086e8",
   "metadata": {},
   "outputs": [
    {
     "data": {
      "text/plain": [
       "0.0     15\n",
       "38.0    14\n",
       "87.0    14\n",
       "48.0    14\n",
       "64.0    13\n",
       "        ..\n",
       "4.0      4\n",
       "1.0      4\n",
       "47.0     3\n",
       "8.0      2\n",
       "44.0     2\n",
       "Name: age, Length: 101, dtype: int64"
      ]
     },
     "execution_count": 8,
     "metadata": {},
     "output_type": "execute_result"
    }
   ],
   "source": [
    "df_customers[\"age\"].value_counts()"
   ]
  },
  {
   "cell_type": "markdown",
   "id": "a64ae73c",
   "metadata": {},
   "source": [
    "### Tail \n",
    "\n",
    "Hämtar der sista värdena i vår dataframe"
   ]
  },
  {
   "cell_type": "code",
   "execution_count": 10,
   "id": "422fb1ef",
   "metadata": {},
   "outputs": [
    {
     "data": {
      "text/html": [
       "<div>\n",
       "<style scoped>\n",
       "    .dataframe tbody tr th:only-of-type {\n",
       "        vertical-align: middle;\n",
       "    }\n",
       "\n",
       "    .dataframe tbody tr th {\n",
       "        vertical-align: top;\n",
       "    }\n",
       "\n",
       "    .dataframe thead th {\n",
       "        text-align: right;\n",
       "    }\n",
       "</style>\n",
       "<table border=\"1\" class=\"dataframe\">\n",
       "  <thead>\n",
       "    <tr style=\"text-align: right;\">\n",
       "      <th></th>\n",
       "      <th>customer_id</th>\n",
       "      <th>name</th>\n",
       "      <th>email</th>\n",
       "      <th>age</th>\n",
       "      <th>purchase_frequency</th>\n",
       "      <th>phone</th>\n",
       "    </tr>\n",
       "  </thead>\n",
       "  <tbody>\n",
       "    <tr>\n",
       "      <th>990</th>\n",
       "      <td>991</td>\n",
       "      <td>Steve Gates</td>\n",
       "      <td>invalid_email</td>\n",
       "      <td>2.0</td>\n",
       "      <td>high</td>\n",
       "      <td>0751-901617</td>\n",
       "    </tr>\n",
       "    <tr>\n",
       "      <th>991</th>\n",
       "      <td>992</td>\n",
       "      <td>Bill Torvalds</td>\n",
       "      <td>bill.torvalds@example.com</td>\n",
       "      <td>65.0</td>\n",
       "      <td>high</td>\n",
       "      <td>0738-992419</td>\n",
       "    </tr>\n",
       "    <tr>\n",
       "      <th>992</th>\n",
       "      <td>993</td>\n",
       "      <td>Jeff Nadella</td>\n",
       "      <td>jeff.nadella@example.com</td>\n",
       "      <td>NaN</td>\n",
       "      <td>medium</td>\n",
       "      <td>0758-478070</td>\n",
       "    </tr>\n",
       "    <tr>\n",
       "      <th>993</th>\n",
       "      <td>994</td>\n",
       "      <td>Linus Musk</td>\n",
       "      <td>linus.musk@example.com</td>\n",
       "      <td>22.0</td>\n",
       "      <td>high</td>\n",
       "      <td>0731-360922</td>\n",
       "    </tr>\n",
       "    <tr>\n",
       "      <th>994</th>\n",
       "      <td>995</td>\n",
       "      <td>Satya Bezos</td>\n",
       "      <td>satya.bezos@example.com</td>\n",
       "      <td>NaN</td>\n",
       "      <td>high</td>\n",
       "      <td>0747-599476</td>\n",
       "    </tr>\n",
       "    <tr>\n",
       "      <th>995</th>\n",
       "      <td>996</td>\n",
       "      <td>Bill Pichai</td>\n",
       "      <td>bill.pichai@example.com</td>\n",
       "      <td>NaN</td>\n",
       "      <td>low</td>\n",
       "      <td>0767-627436</td>\n",
       "    </tr>\n",
       "    <tr>\n",
       "      <th>996</th>\n",
       "      <td>997</td>\n",
       "      <td>Satya Torvalds</td>\n",
       "      <td>satya.torvalds@example.com</td>\n",
       "      <td>94.0</td>\n",
       "      <td>high</td>\n",
       "      <td>0739-488394</td>\n",
       "    </tr>\n",
       "    <tr>\n",
       "      <th>997</th>\n",
       "      <td>998</td>\n",
       "      <td>Sergey Gates</td>\n",
       "      <td>sergey.gates@example.com</td>\n",
       "      <td>33.0</td>\n",
       "      <td>medium</td>\n",
       "      <td>0797-920476</td>\n",
       "    </tr>\n",
       "    <tr>\n",
       "      <th>998</th>\n",
       "      <td>999</td>\n",
       "      <td>Sergey Jobs</td>\n",
       "      <td>sergey.jobs@example.com</td>\n",
       "      <td>29.0</td>\n",
       "      <td>high</td>\n",
       "      <td>0791-108864</td>\n",
       "    </tr>\n",
       "    <tr>\n",
       "      <th>999</th>\n",
       "      <td>1000</td>\n",
       "      <td>Bill Torvalds</td>\n",
       "      <td>invalid_email</td>\n",
       "      <td>26.0</td>\n",
       "      <td>medium</td>\n",
       "      <td>0719-967548</td>\n",
       "    </tr>\n",
       "  </tbody>\n",
       "</table>\n",
       "</div>"
      ],
      "text/plain": [
       "     customer_id            name                       email   age  \\\n",
       "990          991     Steve Gates               invalid_email   2.0   \n",
       "991          992   Bill Torvalds   bill.torvalds@example.com  65.0   \n",
       "992          993    Jeff Nadella    jeff.nadella@example.com   NaN   \n",
       "993          994      Linus Musk      linus.musk@example.com  22.0   \n",
       "994          995     Satya Bezos     satya.bezos@example.com   NaN   \n",
       "995          996     Bill Pichai     bill.pichai@example.com   NaN   \n",
       "996          997  Satya Torvalds  satya.torvalds@example.com  94.0   \n",
       "997          998    Sergey Gates    sergey.gates@example.com  33.0   \n",
       "998          999     Sergey Jobs     sergey.jobs@example.com  29.0   \n",
       "999         1000   Bill Torvalds               invalid_email  26.0   \n",
       "\n",
       "    purchase_frequency        phone  \n",
       "990               high  0751-901617  \n",
       "991               high  0738-992419  \n",
       "992             medium  0758-478070  \n",
       "993               high  0731-360922  \n",
       "994               high  0747-599476  \n",
       "995                low  0767-627436  \n",
       "996               high  0739-488394  \n",
       "997             medium  0797-920476  \n",
       "998               high  0791-108864  \n",
       "999             medium  0719-967548  "
      ]
     },
     "execution_count": 10,
     "metadata": {},
     "output_type": "execute_result"
    }
   ],
   "source": [
    "df_customers.tail(10)"
   ]
  },
  {
   "cell_type": "markdown",
   "id": "95dab877",
   "metadata": {},
   "source": [
    "### Shape\n",
    "\n",
    "Visar antalet rader, kolumner, och eventuella andra dimensioner"
   ]
  },
  {
   "cell_type": "code",
   "execution_count": 12,
   "id": "c227b2e0",
   "metadata": {},
   "outputs": [
    {
     "data": {
      "text/plain": [
       "(1000, 6)"
      ]
     },
     "execution_count": 12,
     "metadata": {},
     "output_type": "execute_result"
    }
   ],
   "source": [
    "df_customers.shape"
   ]
  },
  {
   "cell_type": "markdown",
   "id": "ec0e9ea8",
   "metadata": {},
   "source": [
    "För att hämta antalet rader, skriv `df.shape[0]`"
   ]
  },
  {
   "cell_type": "code",
   "execution_count": 13,
   "id": "832428fc",
   "metadata": {},
   "outputs": [
    {
     "data": {
      "text/plain": [
       "1000"
      ]
     },
     "execution_count": 13,
     "metadata": {},
     "output_type": "execute_result"
    }
   ],
   "source": [
    "df_customers.shape[0]"
   ]
  },
  {
   "cell_type": "markdown",
   "id": "017c7cf5",
   "metadata": {},
   "source": [
    "### dtypes\n",
    "\n",
    "Visa varje kolumn och dess datatyp"
   ]
  },
  {
   "cell_type": "code",
   "execution_count": 15,
   "id": "aaa60809",
   "metadata": {},
   "outputs": [
    {
     "data": {
      "text/plain": [
       "customer_id             int64\n",
       "name                   object\n",
       "email                  object\n",
       "age                   float64\n",
       "purchase_frequency     object\n",
       "phone                  object\n",
       "dtype: object"
      ]
     },
     "execution_count": 15,
     "metadata": {},
     "output_type": "execute_result"
    }
   ],
   "source": [
    "df_customers.dtypes"
   ]
  },
  {
   "cell_type": "markdown",
   "id": "37c77003",
   "metadata": {},
   "source": [
    "### nunique\n",
    "\n",
    "Visar antalet unika värden per kolumn"
   ]
  },
  {
   "cell_type": "code",
   "execution_count": 18,
   "id": "af6cee88",
   "metadata": {},
   "outputs": [
    {
     "data": {
      "text/plain": [
       "customer_id           1000\n",
       "name                   100\n",
       "email                  101\n",
       "age                    101\n",
       "purchase_frequency       3\n",
       "phone                 1000\n",
       "dtype: int64"
      ]
     },
     "execution_count": 18,
     "metadata": {},
     "output_type": "execute_result"
    }
   ],
   "source": [
    "df_customers.nunique()"
   ]
  },
  {
   "cell_type": "markdown",
   "id": "b9847196",
   "metadata": {},
   "source": [
    "### isna().sum()\n",
    "\n",
    "Visa antalet tomma (NaN) värden för varje kolumn"
   ]
  },
  {
   "cell_type": "code",
   "execution_count": 22,
   "id": "db8605ee",
   "metadata": {},
   "outputs": [
    {
     "data": {
      "text/plain": [
       "customer_id             0\n",
       "name                    0\n",
       "email                   0\n",
       "age                   192\n",
       "purchase_frequency      0\n",
       "phone                   0\n",
       "dtype: int64"
      ]
     },
     "execution_count": 22,
     "metadata": {},
     "output_type": "execute_result"
    }
   ],
   "source": [
    "df_customers.isna().sum()"
   ]
  },
  {
   "cell_type": "markdown",
   "id": "77088bcd",
   "metadata": {},
   "source": [
    "## 3. Städa data\n",
    "\n",
    "Nu tar vi bort rader med ogiltiga värden genom att spara dem till `df_customers_clean`"
   ]
  },
  {
   "cell_type": "code",
   "execution_count": 43,
   "id": "599be6da",
   "metadata": {},
   "outputs": [
    {
     "data": {
      "text/html": [
       "<div>\n",
       "<style scoped>\n",
       "    .dataframe tbody tr th:only-of-type {\n",
       "        vertical-align: middle;\n",
       "    }\n",
       "\n",
       "    .dataframe tbody tr th {\n",
       "        vertical-align: top;\n",
       "    }\n",
       "\n",
       "    .dataframe thead th {\n",
       "        text-align: right;\n",
       "    }\n",
       "</style>\n",
       "<table border=\"1\" class=\"dataframe\">\n",
       "  <thead>\n",
       "    <tr style=\"text-align: right;\">\n",
       "      <th></th>\n",
       "      <th>customer_id</th>\n",
       "      <th>name</th>\n",
       "      <th>email</th>\n",
       "      <th>age</th>\n",
       "      <th>purchase_frequency</th>\n",
       "      <th>phone</th>\n",
       "    </tr>\n",
       "  </thead>\n",
       "  <tbody>\n",
       "    <tr>\n",
       "      <th>2</th>\n",
       "      <td>3</td>\n",
       "      <td>Larry Page</td>\n",
       "      <td>larry.page@example.com</td>\n",
       "      <td>32.0</td>\n",
       "      <td>low</td>\n",
       "      <td>0721-396539</td>\n",
       "    </tr>\n",
       "    <tr>\n",
       "      <th>3</th>\n",
       "      <td>4</td>\n",
       "      <td>Larry Gates</td>\n",
       "      <td>larry.gates@example.com</td>\n",
       "      <td>53.0</td>\n",
       "      <td>high</td>\n",
       "      <td>0796-822934</td>\n",
       "    </tr>\n",
       "    <tr>\n",
       "      <th>4</th>\n",
       "      <td>5</td>\n",
       "      <td>Elon Pichai</td>\n",
       "      <td>elon.pichai@example.com</td>\n",
       "      <td>96.0</td>\n",
       "      <td>high</td>\n",
       "      <td>0713-495189</td>\n",
       "    </tr>\n",
       "    <tr>\n",
       "      <th>5</th>\n",
       "      <td>6</td>\n",
       "      <td>Mark Torvalds</td>\n",
       "      <td>mark.torvalds@example.com</td>\n",
       "      <td>NaN</td>\n",
       "      <td>low</td>\n",
       "      <td>0776-543945</td>\n",
       "    </tr>\n",
       "    <tr>\n",
       "      <th>6</th>\n",
       "      <td>7</td>\n",
       "      <td>Steve Torvalds</td>\n",
       "      <td>steve.torvalds@example.com</td>\n",
       "      <td>44.0</td>\n",
       "      <td>high</td>\n",
       "      <td>0780-151609</td>\n",
       "    </tr>\n",
       "    <tr>\n",
       "      <th>...</th>\n",
       "      <td>...</td>\n",
       "      <td>...</td>\n",
       "      <td>...</td>\n",
       "      <td>...</td>\n",
       "      <td>...</td>\n",
       "      <td>...</td>\n",
       "    </tr>\n",
       "    <tr>\n",
       "      <th>994</th>\n",
       "      <td>995</td>\n",
       "      <td>Satya Bezos</td>\n",
       "      <td>satya.bezos@example.com</td>\n",
       "      <td>NaN</td>\n",
       "      <td>high</td>\n",
       "      <td>0747-599476</td>\n",
       "    </tr>\n",
       "    <tr>\n",
       "      <th>995</th>\n",
       "      <td>996</td>\n",
       "      <td>Bill Pichai</td>\n",
       "      <td>bill.pichai@example.com</td>\n",
       "      <td>NaN</td>\n",
       "      <td>low</td>\n",
       "      <td>0767-627436</td>\n",
       "    </tr>\n",
       "    <tr>\n",
       "      <th>996</th>\n",
       "      <td>997</td>\n",
       "      <td>Satya Torvalds</td>\n",
       "      <td>satya.torvalds@example.com</td>\n",
       "      <td>94.0</td>\n",
       "      <td>high</td>\n",
       "      <td>0739-488394</td>\n",
       "    </tr>\n",
       "    <tr>\n",
       "      <th>997</th>\n",
       "      <td>998</td>\n",
       "      <td>Sergey Gates</td>\n",
       "      <td>sergey.gates@example.com</td>\n",
       "      <td>33.0</td>\n",
       "      <td>medium</td>\n",
       "      <td>0797-920476</td>\n",
       "    </tr>\n",
       "    <tr>\n",
       "      <th>998</th>\n",
       "      <td>999</td>\n",
       "      <td>Sergey Jobs</td>\n",
       "      <td>sergey.jobs@example.com</td>\n",
       "      <td>29.0</td>\n",
       "      <td>high</td>\n",
       "      <td>0791-108864</td>\n",
       "    </tr>\n",
       "  </tbody>\n",
       "</table>\n",
       "<p>829 rows × 6 columns</p>\n",
       "</div>"
      ],
      "text/plain": [
       "     customer_id            name                       email   age  \\\n",
       "2              3      Larry Page      larry.page@example.com  32.0   \n",
       "3              4     Larry Gates     larry.gates@example.com  53.0   \n",
       "4              5     Elon Pichai     elon.pichai@example.com  96.0   \n",
       "5              6   Mark Torvalds   mark.torvalds@example.com   NaN   \n",
       "6              7  Steve Torvalds  steve.torvalds@example.com  44.0   \n",
       "..           ...             ...                         ...   ...   \n",
       "994          995     Satya Bezos     satya.bezos@example.com   NaN   \n",
       "995          996     Bill Pichai     bill.pichai@example.com   NaN   \n",
       "996          997  Satya Torvalds  satya.torvalds@example.com  94.0   \n",
       "997          998    Sergey Gates    sergey.gates@example.com  33.0   \n",
       "998          999     Sergey Jobs     sergey.jobs@example.com  29.0   \n",
       "\n",
       "    purchase_frequency        phone  \n",
       "2                  low  0721-396539  \n",
       "3                 high  0796-822934  \n",
       "4                 high  0713-495189  \n",
       "5                  low  0776-543945  \n",
       "6                 high  0780-151609  \n",
       "..                 ...          ...  \n",
       "994               high  0747-599476  \n",
       "995                low  0767-627436  \n",
       "996               high  0739-488394  \n",
       "997             medium  0797-920476  \n",
       "998               high  0791-108864  \n",
       "\n",
       "[829 rows x 6 columns]"
      ]
     },
     "execution_count": 43,
     "metadata": {},
     "output_type": "execute_result"
    }
   ],
   "source": [
    "df_customers_valid = df_customers[\"email\"] != \"invalid_email\"\n",
    "df_customers_clean = df_customers[df_customers_valid]\n",
    "\n",
    "df_customers_clean"
   ]
  },
  {
   "cell_type": "code",
   "execution_count": 44,
   "id": "438fb12f",
   "metadata": {},
   "outputs": [
    {
     "data": {
      "text/plain": [
       "(829, 6)"
      ]
     },
     "execution_count": 44,
     "metadata": {},
     "output_type": "execute_result"
    }
   ],
   "source": [
    "df_customers_clean.shape"
   ]
  },
  {
   "cell_type": "markdown",
   "id": "fb31d265",
   "metadata": {},
   "source": [
    "### Ta bort ogiltiga åldrar\n",
    "\n",
    "Vi tar bort alla rader där `age` = `NaN`"
   ]
  },
  {
   "cell_type": "code",
   "execution_count": 46,
   "id": "1e7ad178",
   "metadata": {},
   "outputs": [
    {
     "data": {
      "text/html": [
       "<div>\n",
       "<style scoped>\n",
       "    .dataframe tbody tr th:only-of-type {\n",
       "        vertical-align: middle;\n",
       "    }\n",
       "\n",
       "    .dataframe tbody tr th {\n",
       "        vertical-align: top;\n",
       "    }\n",
       "\n",
       "    .dataframe thead th {\n",
       "        text-align: right;\n",
       "    }\n",
       "</style>\n",
       "<table border=\"1\" class=\"dataframe\">\n",
       "  <thead>\n",
       "    <tr style=\"text-align: right;\">\n",
       "      <th></th>\n",
       "      <th>customer_id</th>\n",
       "      <th>name</th>\n",
       "      <th>email</th>\n",
       "      <th>age</th>\n",
       "      <th>purchase_frequency</th>\n",
       "      <th>phone</th>\n",
       "    </tr>\n",
       "  </thead>\n",
       "  <tbody>\n",
       "    <tr>\n",
       "      <th>2</th>\n",
       "      <td>3</td>\n",
       "      <td>Larry Page</td>\n",
       "      <td>larry.page@example.com</td>\n",
       "      <td>32.0</td>\n",
       "      <td>low</td>\n",
       "      <td>0721-396539</td>\n",
       "    </tr>\n",
       "    <tr>\n",
       "      <th>3</th>\n",
       "      <td>4</td>\n",
       "      <td>Larry Gates</td>\n",
       "      <td>larry.gates@example.com</td>\n",
       "      <td>53.0</td>\n",
       "      <td>high</td>\n",
       "      <td>0796-822934</td>\n",
       "    </tr>\n",
       "    <tr>\n",
       "      <th>4</th>\n",
       "      <td>5</td>\n",
       "      <td>Elon Pichai</td>\n",
       "      <td>elon.pichai@example.com</td>\n",
       "      <td>96.0</td>\n",
       "      <td>high</td>\n",
       "      <td>0713-495189</td>\n",
       "    </tr>\n",
       "    <tr>\n",
       "      <th>6</th>\n",
       "      <td>7</td>\n",
       "      <td>Steve Torvalds</td>\n",
       "      <td>steve.torvalds@example.com</td>\n",
       "      <td>44.0</td>\n",
       "      <td>high</td>\n",
       "      <td>0780-151609</td>\n",
       "    </tr>\n",
       "    <tr>\n",
       "      <th>9</th>\n",
       "      <td>10</td>\n",
       "      <td>Sergey Brin</td>\n",
       "      <td>sergey.brin@example.com</td>\n",
       "      <td>84.0</td>\n",
       "      <td>low</td>\n",
       "      <td>0714-976248</td>\n",
       "    </tr>\n",
       "    <tr>\n",
       "      <th>...</th>\n",
       "      <td>...</td>\n",
       "      <td>...</td>\n",
       "      <td>...</td>\n",
       "      <td>...</td>\n",
       "      <td>...</td>\n",
       "      <td>...</td>\n",
       "    </tr>\n",
       "    <tr>\n",
       "      <th>991</th>\n",
       "      <td>992</td>\n",
       "      <td>Bill Torvalds</td>\n",
       "      <td>bill.torvalds@example.com</td>\n",
       "      <td>65.0</td>\n",
       "      <td>high</td>\n",
       "      <td>0738-992419</td>\n",
       "    </tr>\n",
       "    <tr>\n",
       "      <th>993</th>\n",
       "      <td>994</td>\n",
       "      <td>Linus Musk</td>\n",
       "      <td>linus.musk@example.com</td>\n",
       "      <td>22.0</td>\n",
       "      <td>high</td>\n",
       "      <td>0731-360922</td>\n",
       "    </tr>\n",
       "    <tr>\n",
       "      <th>996</th>\n",
       "      <td>997</td>\n",
       "      <td>Satya Torvalds</td>\n",
       "      <td>satya.torvalds@example.com</td>\n",
       "      <td>94.0</td>\n",
       "      <td>high</td>\n",
       "      <td>0739-488394</td>\n",
       "    </tr>\n",
       "    <tr>\n",
       "      <th>997</th>\n",
       "      <td>998</td>\n",
       "      <td>Sergey Gates</td>\n",
       "      <td>sergey.gates@example.com</td>\n",
       "      <td>33.0</td>\n",
       "      <td>medium</td>\n",
       "      <td>0797-920476</td>\n",
       "    </tr>\n",
       "    <tr>\n",
       "      <th>998</th>\n",
       "      <td>999</td>\n",
       "      <td>Sergey Jobs</td>\n",
       "      <td>sergey.jobs@example.com</td>\n",
       "      <td>29.0</td>\n",
       "      <td>high</td>\n",
       "      <td>0791-108864</td>\n",
       "    </tr>\n",
       "  </tbody>\n",
       "</table>\n",
       "<p>674 rows × 6 columns</p>\n",
       "</div>"
      ],
      "text/plain": [
       "     customer_id            name                       email   age  \\\n",
       "2              3      Larry Page      larry.page@example.com  32.0   \n",
       "3              4     Larry Gates     larry.gates@example.com  53.0   \n",
       "4              5     Elon Pichai     elon.pichai@example.com  96.0   \n",
       "6              7  Steve Torvalds  steve.torvalds@example.com  44.0   \n",
       "9             10     Sergey Brin     sergey.brin@example.com  84.0   \n",
       "..           ...             ...                         ...   ...   \n",
       "991          992   Bill Torvalds   bill.torvalds@example.com  65.0   \n",
       "993          994      Linus Musk      linus.musk@example.com  22.0   \n",
       "996          997  Satya Torvalds  satya.torvalds@example.com  94.0   \n",
       "997          998    Sergey Gates    sergey.gates@example.com  33.0   \n",
       "998          999     Sergey Jobs     sergey.jobs@example.com  29.0   \n",
       "\n",
       "    purchase_frequency        phone  \n",
       "2                  low  0721-396539  \n",
       "3                 high  0796-822934  \n",
       "4                 high  0713-495189  \n",
       "6                 high  0780-151609  \n",
       "9                  low  0714-976248  \n",
       "..                 ...          ...  \n",
       "991               high  0738-992419  \n",
       "993               high  0731-360922  \n",
       "996               high  0739-488394  \n",
       "997             medium  0797-920476  \n",
       "998               high  0791-108864  \n",
       "\n",
       "[674 rows x 6 columns]"
      ]
     },
     "execution_count": 46,
     "metadata": {},
     "output_type": "execute_result"
    }
   ],
   "source": [
    "df_customers_valid = df_customers_clean[\"age\"].notna()\n",
    "df_customers_clean = df_customers_clean[df_customers_valid]\n",
    "\n",
    "df_customers_clean"
   ]
  },
  {
   "cell_type": "markdown",
   "id": "68b8073c",
   "metadata": {},
   "source": [
    "## 4. plotta vår data\n",
    "\n",
    "Vi använder pandas för att göra plots av vår data.\n",
    "\n",
    "Först plottar vi `age` som histogram (bar chart)"
   ]
  },
  {
   "cell_type": "code",
   "execution_count": 48,
   "id": "43a592a0",
   "metadata": {},
   "outputs": [
    {
     "data": {
      "text/plain": [
       "<AxesSubplot:ylabel='Frequency'>"
      ]
     },
     "execution_count": 48,
     "metadata": {},
     "output_type": "execute_result"
    },
    {
     "data": {
      "image/png": "[encoded data removed]",
      "text/plain": [
       "<Figure size 432x288 with 1 Axes>"
      ]
     },
     "metadata": {
      "needs_background": "light"
     },
     "output_type": "display_data"
    }
   ],
   "source": [
    "df_customers[\"age\"].plot(kind=\"hist\")"
   ]
  },
  {
   "cell_type": "markdown",
   "id": "8d308480",
   "metadata": {},
   "source": [
    "### Cirkeldiagram\n",
    "\n",
    "Plotta antalet giltiga mailadresser.\n",
    "\n",
    "Räkna ut totala antalet kunder."
   ]
  },
  {
   "cell_type": "code",
   "execution_count": 50,
   "id": "191413a9",
   "metadata": {},
   "outputs": [
    {
     "name": "stdout",
     "output_type": "stream",
     "text": [
      "1000 1000\n"
     ]
    }
   ],
   "source": [
    "total_customers = df_customers.shape[0]\n",
    "total_customers2 = df_customers[\"email\"].count()\n",
    "\n",
    "print(total_customers, total_customers2)"
   ]
  },
  {
   "cell_type": "markdown",
   "id": "fff912dc",
   "metadata": {},
   "source": [
    "### Valid / invalid email\n",
    "\n",
    "Beräkna antalet ogiltiga och giltiga mailadresser"
   ]
  },
  {
   "cell_type": "code",
   "execution_count": 55,
   "id": "2be25220",
   "metadata": {},
   "outputs": [
    {
     "name": "stdout",
     "output_type": "stream",
     "text": [
      "171 829\n"
     ]
    }
   ],
   "source": [
    "invalid_emails = df_customers[\"email\"].str.contains(\"invalid_email\").sum()\n",
    "valid_emails = total_customers - invalid_emails\n",
    "\n",
    "print(invalid_emails, valid_emails)"
   ]
  },
  {
   "cell_type": "markdown",
   "id": "a1bdc00f",
   "metadata": {},
   "source": [
    "### Skapa DataFrame\n",
    "\n",
    "Använd pd.DataFrame för att skapa en ny dataframe för att sedan kunna göra en pie plot."
   ]
  },
  {
   "cell_type": "code",
   "execution_count": 64,
   "id": "3ca71bdb",
   "metadata": {},
   "outputs": [
    {
     "data": {
      "text/html": [
       "<div>\n",
       "<style scoped>\n",
       "    .dataframe tbody tr th:only-of-type {\n",
       "        vertical-align: middle;\n",
       "    }\n",
       "\n",
       "    .dataframe tbody tr th {\n",
       "        vertical-align: top;\n",
       "    }\n",
       "\n",
       "    .dataframe thead th {\n",
       "        text-align: right;\n",
       "    }\n",
       "</style>\n",
       "<table border=\"1\" class=\"dataframe\">\n",
       "  <thead>\n",
       "    <tr style=\"text-align: right;\">\n",
       "      <th></th>\n",
       "      <th>email</th>\n",
       "    </tr>\n",
       "  </thead>\n",
       "  <tbody>\n",
       "    <tr>\n",
       "      <th>valid</th>\n",
       "      <td>829</td>\n",
       "    </tr>\n",
       "    <tr>\n",
       "      <th>invalid</th>\n",
       "      <td>171</td>\n",
       "    </tr>\n",
       "  </tbody>\n",
       "</table>\n",
       "</div>"
      ],
      "text/plain": [
       "         email\n",
       "valid      829\n",
       "invalid    171"
      ]
     },
     "execution_count": 64,
     "metadata": {},
     "output_type": "execute_result"
    }
   ],
   "source": [
    "pie_df = pd.DataFrame({\"email\": [valid_emails, invalid_emails]}, index=[\"valid\", \"invalid\"])\n",
    "\n",
    "pie_df"
   ]
  },
  {
   "cell_type": "markdown",
   "id": "73d1851b",
   "metadata": {},
   "source": [
    "### Plotta vår paj!"
   ]
  },
  {
   "cell_type": "code",
   "execution_count": 66,
   "id": "aadc915a",
   "metadata": {},
   "outputs": [
    {
     "data": {
      "text/plain": [
       "<AxesSubplot:ylabel='email'>"
      ]
     },
     "execution_count": 66,
     "metadata": {},
     "output_type": "execute_result"
    },
    {
     "data": {
      "image/png": "[encoded data removed]",
      "text/plain": [
       "<Figure size 360x360 with 1 Axes>"
      ]
     },
     "metadata": {},
     "output_type": "display_data"
    }
   ],
   "source": [
    "pie_df.plot.pie(y=\"email\", figsize=(5, 5))"
   ]
  },
  {
   "cell_type": "markdown",
   "id": "15ffaf80",
   "metadata": {},
   "source": [
    "# Uppgift till er:\n",
    "\n",
    "1. Skapa grupp och skriv till Linus på Slack\n",
    "2. Se över alla vidoer på itslearning\n",
    "3. Rensa och plotta data för produkter\n",
    "4. Skapa plots i vs code genom att följa presentationsmaterialet"
   ]
  },
  {
   "cell_type": "code",
   "execution_count": null,
   "id": "53f613db",
   "metadata": {},
   "outputs": [],
   "source": []
  }
 ],
 "metadata": {
  "kernelspec": {
   "display_name": "Python 3 (ipykernel)",
   "language": "python",
   "name": "python3"
  },
  "language_info": {
   "codemirror_mode": {
    "name": "ipython",
    "version": 3
   },
   "file_extension": ".py",
   "mimetype": "text/x-python",
   "name": "python",
   "nbconvert_exporter": "python",
   "pygments_lexer": "ipython3",
   "version": "3.9.12"
  }
 },
 "nbformat": 4,
 "nbformat_minor": 5
}
