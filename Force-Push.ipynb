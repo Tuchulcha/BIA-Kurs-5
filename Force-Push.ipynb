{
 "cells": [
  {
   "cell_type": "code",
   "execution_count": null,
   "id": "7a25cc9b",
   "metadata": {},
   "outputs": [
    {
     "name": "stdout",
     "output_type": "stream",
     "text": [
      "Success:\n",
      "\n",
      "Success:\n",
      "[master a429989] Resolving conflicts by force push\n",
      " 1 file changed, 18 insertions(+), 17 deletions(-)\n",
      "\n"
     ]
    }
   ],
   "source": [
    "import subprocess\n",
    "\n",
    "def run_command(command_list):\n",
    "    try:\n",
    "        result = subprocess.run(command_list, stdout=subprocess.PIPE, stderr=subprocess.PIPE, text=True, check=True)\n",
    "        print(f\"Success:\\n{result.stdout}\")\n",
    "    except subprocess.CalledProcessError as e:\n",
    "        print(f\"Failed:\\n{e.stderr}\")\n",
    "\n",
    "# Add all files to the commit\n",
    "run_command([\"git\", \"add\", \".\"])\n",
    "\n",
    "# Commit the changes\n",
    "run_command([\"git\", \"commit\", \"-m\", \"Resolving conflicts by force push\"])\n",
    "\n",
    "# Force push to GitHub\n",
    "run_command([\"git\", \"push\", \"-f\", \"origin\", \"master\"])"
   ]
  },
  {
   "cell_type": "code",
   "execution_count": null,
   "id": "1404d0c8",
   "metadata": {},
   "outputs": [],
   "source": []
  }
 ],
 "metadata": {
  "kernelspec": {
   "display_name": "Python 3 (ipykernel)",
   "language": "python",
   "name": "python3"
  },
  "language_info": {
   "codemirror_mode": {
    "name": "ipython",
    "version": 3
   },
   "file_extension": ".py",
   "mimetype": "text/x-python",
   "name": "python",
   "nbconvert_exporter": "python",
   "pygments_lexer": "ipython3",
   "version": "3.11.4"
  }
 },
 "nbformat": 4,
 "nbformat_minor": 5
}
