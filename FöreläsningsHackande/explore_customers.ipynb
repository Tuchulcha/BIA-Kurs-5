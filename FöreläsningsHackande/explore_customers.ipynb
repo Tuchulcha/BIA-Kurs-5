{
 "cells": [
  {
   "cell_type": "code",
   "execution_count": 3,
   "id": "5cab32af",
   "metadata": {},
   "outputs": [
    {
     "data": {
      "text/html": [
       "<div>\n",
       "<style scoped>\n",
       "    .dataframe tbody tr th:only-of-type {\n",
       "        vertical-align: middle;\n",
       "    }\n",
       "\n",
       "    .dataframe tbody tr th {\n",
       "        vertical-align: top;\n",
       "    }\n",
       "\n",
       "    .dataframe thead th {\n",
       "        text-align: right;\n",
       "    }\n",
       "</style>\n",
       "<table border=\"1\" class=\"dataframe\">\n",
       "  <thead>\n",
       "    <tr style=\"text-align: right;\">\n",
       "      <th></th>\n",
       "      <th>name</th>\n",
       "      <th>email</th>\n",
       "      <th>age</th>\n",
       "      <th>purchase_frequency</th>\n",
       "      <th>phone</th>\n",
       "    </tr>\n",
       "  </thead>\n",
       "  <tbody>\n",
       "    <tr>\n",
       "      <th>0</th>\n",
       "      <td>Sergey Bezos</td>\n",
       "      <td>sergey.bezos@example.com</td>\n",
       "      <td>68.0</td>\n",
       "      <td>medium</td>\n",
       "      <td>0753-564327</td>\n",
       "    </tr>\n",
       "    <tr>\n",
       "      <th>1</th>\n",
       "      <td>Steve Jobs</td>\n",
       "      <td>steve.jobs@example.com</td>\n",
       "      <td>13.0</td>\n",
       "      <td>high</td>\n",
       "      <td>0786-888117</td>\n",
       "    </tr>\n",
       "    <tr>\n",
       "      <th>2</th>\n",
       "      <td>Steve Zuckerberg</td>\n",
       "      <td>steve.zuckerberg@example.com</td>\n",
       "      <td>96.0</td>\n",
       "      <td>low</td>\n",
       "      <td>0772-161689</td>\n",
       "    </tr>\n",
       "    <tr>\n",
       "      <th>3</th>\n",
       "      <td>Sundar Torvalds</td>\n",
       "      <td>sundar.torvalds@example.com</td>\n",
       "      <td>34.0</td>\n",
       "      <td>low</td>\n",
       "      <td>0762-683571</td>\n",
       "    </tr>\n",
       "    <tr>\n",
       "      <th>4</th>\n",
       "      <td>Elon Pichai</td>\n",
       "      <td>invalid_email</td>\n",
       "      <td>52.0</td>\n",
       "      <td>medium</td>\n",
       "      <td>0779-277442</td>\n",
       "    </tr>\n",
       "  </tbody>\n",
       "</table>\n",
       "</div>"
      ],
      "text/plain": [
       "               name                         email   age purchase_frequency  \\\n",
       "0      Sergey Bezos      sergey.bezos@example.com  68.0             medium   \n",
       "1        Steve Jobs        steve.jobs@example.com  13.0               high   \n",
       "2  Steve Zuckerberg  steve.zuckerberg@example.com  96.0                low   \n",
       "3   Sundar Torvalds   sundar.torvalds@example.com  34.0                low   \n",
       "4       Elon Pichai                 invalid_email  52.0             medium   \n",
       "\n",
       "         phone  \n",
       "0  0753-564327  \n",
       "1  0786-888117  \n",
       "2  0772-161689  \n",
       "3  0762-683571  \n",
       "4  0779-277442  "
      ]
     },
     "execution_count": 3,
     "metadata": {},
     "output_type": "execute_result"
    }
   ],
   "source": [
    "import pandas as pd\n",
    "\n",
    "df = pd.read_csv(\"customer_data.csv\")\n",
    "\n",
    "df.head()"
   ]
  },
  {
   "cell_type": "code",
   "execution_count": 6,
   "id": "623e103a",
   "metadata": {},
   "outputs": [
    {
     "data": {
      "text/plain": [
       "12"
      ]
     },
     "execution_count": 6,
     "metadata": {},
     "output_type": "execute_result"
    }
   ],
   "source": [
    "df[df[\"email\"] == \"invalid_email\"].shape[0]"
   ]
  },
  {
   "cell_type": "code",
   "execution_count": 10,
   "id": "a99ece3c",
   "metadata": {},
   "outputs": [
    {
     "data": {
      "text/plain": [
       "18"
      ]
     },
     "execution_count": 10,
     "metadata": {},
     "output_type": "execute_result"
    }
   ],
   "source": [
    "df[df[\"age\"].isna()].shape[0]"
   ]
  }
 ],
 "metadata": {
  "kernelspec": {
   "display_name": "Python 3 (ipykernel)",
   "language": "python",
   "name": "python3"
  },
  "language_info": {
   "codemirror_mode": {
    "name": "ipython",
    "version": 3
   },
   "file_extension": ".py",
   "mimetype": "text/x-python",
   "name": "python",
   "nbconvert_exporter": "python",
   "pygments_lexer": "ipython3",
   "version": "3.9.12"
  }
 },
 "nbformat": 4,
 "nbformat_minor": 5
}
