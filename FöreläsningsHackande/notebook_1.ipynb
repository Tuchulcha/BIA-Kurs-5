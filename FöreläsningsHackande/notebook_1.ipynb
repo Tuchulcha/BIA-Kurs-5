{
 "cells": [
  {
   "cell_type": "markdown",
   "id": "2a3af470",
   "metadata": {},
   "source": [
    "# Min första Notebook\n",
    "\n",
    "`[Ctrl]` + `[Enter]` => Kör cell\n",
    "\n",
    "`[Shift]` + `[Enter]` => Kör cell och gå till nästa"
   ]
  },
  {
   "cell_type": "code",
   "execution_count": 1,
   "id": "95f8f04f",
   "metadata": {},
   "outputs": [
    {
     "data": {
      "text/html": [
       "<div>\n",
       "<style scoped>\n",
       "    .dataframe tbody tr th:only-of-type {\n",
       "        vertical-align: middle;\n",
       "    }\n",
       "\n",
       "    .dataframe tbody tr th {\n",
       "        vertical-align: top;\n",
       "    }\n",
       "\n",
       "    .dataframe thead th {\n",
       "        text-align: right;\n",
       "    }\n",
       "</style>\n",
       "<table border=\"1\" class=\"dataframe\">\n",
       "  <thead>\n",
       "    <tr style=\"text-align: right;\">\n",
       "      <th></th>\n",
       "      <th>product_id</th>\n",
       "      <th>product_name</th>\n",
       "      <th>price</th>\n",
       "      <th>size</th>\n",
       "      <th>color</th>\n",
       "    </tr>\n",
       "  </thead>\n",
       "  <tbody>\n",
       "    <tr>\n",
       "      <th>0</th>\n",
       "      <td>1</td>\n",
       "      <td>Awesome Fantastic Coat</td>\n",
       "      <td>399</td>\n",
       "      <td>L</td>\n",
       "      <td>White</td>\n",
       "    </tr>\n",
       "    <tr>\n",
       "      <th>1</th>\n",
       "      <td>2</td>\n",
       "      <td>Slimy Blue Hat</td>\n",
       "      <td>909</td>\n",
       "      <td>XL</td>\n",
       "      <td>Green</td>\n",
       "    </tr>\n",
       "    <tr>\n",
       "      <th>2</th>\n",
       "      <td>3</td>\n",
       "      <td>Incredible Awesome Scarf</td>\n",
       "      <td>439</td>\n",
       "      <td>S</td>\n",
       "      <td>Red</td>\n",
       "    </tr>\n",
       "    <tr>\n",
       "      <th>3</th>\n",
       "      <td>4</td>\n",
       "      <td>Stunning Beautiful Coat</td>\n",
       "      <td>859</td>\n",
       "      <td>XL</td>\n",
       "      <td>Blue</td>\n",
       "    </tr>\n",
       "    <tr>\n",
       "      <th>4</th>\n",
       "      <td>5</td>\n",
       "      <td>Fantastic Awesome Socks</td>\n",
       "      <td>989</td>\n",
       "      <td>L</td>\n",
       "      <td>Black</td>\n",
       "    </tr>\n",
       "  </tbody>\n",
       "</table>\n",
       "</div>"
      ],
      "text/plain": [
       "   product_id              product_name  price size  color\n",
       "0           1    Awesome Fantastic Coat    399    L  White\n",
       "1           2            Slimy Blue Hat    909   XL  Green\n",
       "2           3  Incredible Awesome Scarf    439    S    Red\n",
       "3           4   Stunning Beautiful Coat    859   XL   Blue\n",
       "4           5   Fantastic Awesome Socks    989    L  Black"
      ]
     },
     "execution_count": 1,
     "metadata": {},
     "output_type": "execute_result"
    }
   ],
   "source": [
    "import pandas as pd\n",
    "\n",
    "df = pd.read_csv(\"product_data.csv\")\n",
    "\n",
    "df.head()"
   ]
  },
  {
   "cell_type": "code",
   "execution_count": 3,
   "id": "c1e70050",
   "metadata": {},
   "outputs": [
    {
     "data": {
      "text/plain": [
       "(100, 5)"
      ]
     },
     "execution_count": 3,
     "metadata": {},
     "output_type": "execute_result"
    }
   ],
   "source": [
    "df.shape"
   ]
  },
  {
   "cell_type": "code",
   "execution_count": 6,
   "id": "d55ef993",
   "metadata": {},
   "outputs": [
    {
     "data": {
      "text/plain": [
       "S     28\n",
       "L     21\n",
       "XL    19\n",
       "XS    16\n",
       "M     16\n",
       "Name: size, dtype: int64"
      ]
     },
     "execution_count": 6,
     "metadata": {},
     "output_type": "execute_result"
    }
   ],
   "source": [
    "df[\"size\"].value_counts()"
   ]
  },
  {
   "cell_type": "code",
   "execution_count": 9,
   "id": "7a974faf",
   "metadata": {},
   "outputs": [
    {
     "data": {
      "text/html": [
       "<div>\n",
       "<style scoped>\n",
       "    .dataframe tbody tr th:only-of-type {\n",
       "        vertical-align: middle;\n",
       "    }\n",
       "\n",
       "    .dataframe tbody tr th {\n",
       "        vertical-align: top;\n",
       "    }\n",
       "\n",
       "    .dataframe thead th {\n",
       "        text-align: right;\n",
       "    }\n",
       "</style>\n",
       "<table border=\"1\" class=\"dataframe\">\n",
       "  <thead>\n",
       "    <tr style=\"text-align: right;\">\n",
       "      <th></th>\n",
       "      <th>product_id</th>\n",
       "      <th>product_name</th>\n",
       "      <th>price</th>\n",
       "      <th>size</th>\n",
       "      <th>color</th>\n",
       "    </tr>\n",
       "  </thead>\n",
       "  <tbody>\n",
       "    <tr>\n",
       "      <th>90</th>\n",
       "      <td>91</td>\n",
       "      <td>Blue Magnificent Hat</td>\n",
       "      <td>969</td>\n",
       "      <td>S</td>\n",
       "      <td>Red</td>\n",
       "    </tr>\n",
       "    <tr>\n",
       "      <th>91</th>\n",
       "      <td>92</td>\n",
       "      <td>Fantastic Fantastic Coat</td>\n",
       "      <td>439</td>\n",
       "      <td>M</td>\n",
       "      <td>Black</td>\n",
       "    </tr>\n",
       "    <tr>\n",
       "      <th>92</th>\n",
       "      <td>93</td>\n",
       "      <td>Slimy Beautiful Scarf</td>\n",
       "      <td>669</td>\n",
       "      <td>S</td>\n",
       "      <td>Red</td>\n",
       "    </tr>\n",
       "    <tr>\n",
       "      <th>93</th>\n",
       "      <td>94</td>\n",
       "      <td>Fantastic Slim Coat</td>\n",
       "      <td>299</td>\n",
       "      <td>M</td>\n",
       "      <td>Green</td>\n",
       "    </tr>\n",
       "    <tr>\n",
       "      <th>94</th>\n",
       "      <td>95</td>\n",
       "      <td>Slimy Blue Tie</td>\n",
       "      <td>429</td>\n",
       "      <td>M</td>\n",
       "      <td>Blue</td>\n",
       "    </tr>\n",
       "    <tr>\n",
       "      <th>95</th>\n",
       "      <td>96</td>\n",
       "      <td>Awesome Incredible Socks</td>\n",
       "      <td>259</td>\n",
       "      <td>S</td>\n",
       "      <td>Yellow</td>\n",
       "    </tr>\n",
       "    <tr>\n",
       "      <th>96</th>\n",
       "      <td>97</td>\n",
       "      <td>Awesome Awesome Coat</td>\n",
       "      <td>309</td>\n",
       "      <td>L</td>\n",
       "      <td>Yellow</td>\n",
       "    </tr>\n",
       "    <tr>\n",
       "      <th>97</th>\n",
       "      <td>98</td>\n",
       "      <td>Slimy Fantastic Gloves</td>\n",
       "      <td>819</td>\n",
       "      <td>XS</td>\n",
       "      <td>Yellow</td>\n",
       "    </tr>\n",
       "    <tr>\n",
       "      <th>98</th>\n",
       "      <td>99</td>\n",
       "      <td>Large Awesome Scarf</td>\n",
       "      <td>709</td>\n",
       "      <td>XS</td>\n",
       "      <td>Black</td>\n",
       "    </tr>\n",
       "    <tr>\n",
       "      <th>99</th>\n",
       "      <td>100</td>\n",
       "      <td>Incredible Stunning Hat</td>\n",
       "      <td>639</td>\n",
       "      <td>L</td>\n",
       "      <td>Yellow</td>\n",
       "    </tr>\n",
       "  </tbody>\n",
       "</table>\n",
       "</div>"
      ],
      "text/plain": [
       "    product_id              product_name  price size   color\n",
       "90          91      Blue Magnificent Hat    969    S     Red\n",
       "91          92  Fantastic Fantastic Coat    439    M   Black\n",
       "92          93     Slimy Beautiful Scarf    669    S     Red\n",
       "93          94       Fantastic Slim Coat    299    M   Green\n",
       "94          95            Slimy Blue Tie    429    M    Blue\n",
       "95          96  Awesome Incredible Socks    259    S  Yellow\n",
       "96          97      Awesome Awesome Coat    309    L  Yellow\n",
       "97          98    Slimy Fantastic Gloves    819   XS  Yellow\n",
       "98          99       Large Awesome Scarf    709   XS   Black\n",
       "99         100   Incredible Stunning Hat    639    L  Yellow"
      ]
     },
     "execution_count": 9,
     "metadata": {},
     "output_type": "execute_result"
    }
   ],
   "source": [
    "df.tail(10)"
   ]
  },
  {
   "cell_type": "code",
   "execution_count": 10,
   "id": "d0f0c744",
   "metadata": {},
   "outputs": [
    {
     "data": {
      "text/plain": [
       "product_id      100\n",
       "product_name     94\n",
       "price            63\n",
       "size              5\n",
       "color             6\n",
       "dtype: int64"
      ]
     },
     "execution_count": 10,
     "metadata": {},
     "output_type": "execute_result"
    }
   ],
   "source": [
    "df.nunique()"
   ]
  }
 ],
 "metadata": {
  "kernelspec": {
   "display_name": "Python 3 (ipykernel)",
   "language": "python",
   "name": "python3"
  },
  "language_info": {
   "codemirror_mode": {
    "name": "ipython",
    "version": 3
   },
   "file_extension": ".py",
   "mimetype": "text/x-python",
   "name": "python",
   "nbconvert_exporter": "python",
   "pygments_lexer": "ipython3",
   "version": "3.9.12"
  }
 },
 "nbformat": 4,
 "nbformat_minor": 5
}
