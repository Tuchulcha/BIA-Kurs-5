{
 "cells": [
  {
   "cell_type": "code",
   "execution_count": null,
   "id": "8a3cdda5",
   "metadata": {},
   "outputs": [],
   "source": [
    "import pandas as pd\n",
    "import numpy as np\n",
    "import matplotlib.pyplot as plt\n",
    "import seaborn as sns"
   ]
  },
  {
   "cell_type": "code",
   "execution_count": 16,
   "id": "b31e3e21",
   "metadata": {},
   "outputs": [
    {
     "name": "stdout",
     "output_type": "stream",
     "text": [
      "DatetimeIndex(['2022-01-01', '2022-01-02', '2022-01-03', '2022-01-04',\n",
      "               '2022-01-05', '2022-01-06', '2022-01-07', '2022-01-08',\n",
      "               '2022-01-09', '2022-01-10',\n",
      "               ...\n",
      "               '2022-12-22', '2022-12-23', '2022-12-24', '2022-12-25',\n",
      "               '2022-12-26', '2022-12-27', '2022-12-28', '2022-12-29',\n",
      "               '2022-12-30', '2022-12-31'],\n",
      "              dtype='datetime64[ns]', length=365, freq='D')\n"
     ]
    }
   ],
   "source": [
    "# Generate dates for the year 2022\n",
    "dates = pd.date_range(start='2022-01-01', end='2022-12-31', freq='D')\n",
    "print(dates)"
   ]
  },
  {
   "cell_type": "code",
   "execution_count": 21,
   "id": "fe5b24f5",
   "metadata": {},
   "outputs": [
    {
     "name": "stdout",
     "output_type": "stream",
     "text": [
      "['productivity work hour 1', 'productivity work hour 2', 'productivity work hour 3', 'productivity work hour 4', 'productivity work hour 5', 'productivity work hour 6', 'productivity work hour 7', 'productivity work hour 8']\n"
     ]
    }
   ],
   "source": [
    "# Create column names\n",
    "prod_columns = [f'productivity work hour {i}' for i in range(1, 9)]\n",
    "coffee_columns = [f'coffee consumed by hour {i}' for i in range(1, 9)]"
   ]
  },
  {
   "cell_type": "code",
   "execution_count": 18,
   "id": "291fd665",
   "metadata": {},
   "outputs": [
    {
     "name": "stdout",
     "output_type": "stream",
     "text": [
      "[[96 90 95 ... 87 90 86]\n",
      " [94 87 97 ... 86 86 88]\n",
      " [81 81 97 ... 84 82 98]\n",
      " ...\n",
      " [81 86 87 ... 94 94 86]\n",
      " [95 95 97 ... 83 91 97]\n",
      " [87 88 81 ... 82 90 82]]\n"
     ]
    }
   ],
   "source": [
    "# Generate random values between 80 and 100 to productivity work hour\n",
    "random_productivity_values = np.random.randint(80, 101, size=(len(dates), 8))"
   ]
  },
  {
   "cell_type": "code",
   "execution_count": 19,
   "id": "fa14ca95",
   "metadata": {},
   "outputs": [
    {
     "name": "stdout",
     "output_type": "stream",
     "text": [
      "            productivity work hour 1  productivity work hour 2  \\\n",
      "2022-01-01                        96                        90   \n",
      "2022-01-02                        94                        87   \n",
      "2022-01-03                        81                        81   \n",
      "2022-01-04                        97                        96   \n",
      "2022-01-05                        95                        92   \n",
      "\n",
      "            productivity work hour 3  productivity work hour 4  \\\n",
      "2022-01-01                        95                        80   \n",
      "2022-01-02                        97                        99   \n",
      "2022-01-03                        97                        97   \n",
      "2022-01-04                        87                        97   \n",
      "2022-01-05                        88                        95   \n",
      "\n",
      "            productivity work hour 5  productivity work hour 6  \\\n",
      "2022-01-01                       100                        87   \n",
      "2022-01-02                        94                        86   \n",
      "2022-01-03                        94                        84   \n",
      "2022-01-04                        96                        99   \n",
      "2022-01-05                        94                        84   \n",
      "\n",
      "            productivity work hour 7  productivity work hour 8  \n",
      "2022-01-01                        90                        86  \n",
      "2022-01-02                        86                        88  \n",
      "2022-01-03                        82                        98  \n",
      "2022-01-04                        94                        96  \n",
      "2022-01-05                        86                       100  \n"
     ]
    }
   ],
   "source": [
    "# Loop for incremental random values to coffee consumed by hour\n",
    "for i in range(1, 8):\n",
    "    random_increment = np.random.randint(0, 4, size=(len(dates),))\n",
    "    random_coffee_values[:, i] = random_coffee_values[:, i-1] + random_increment"
   ]
  },
  {
   "cell_type": "code",
   "execution_count": null,
   "id": "6f5ef90e",
   "metadata": {},
   "outputs": [],
   "source": [
    "# Add the columns to the DataFrame\n",
    "df = pd.DataFrame(random_values_coffee, columns=coffee_columns, index=dates)"
   ]
  }
 ],
 "metadata": {
  "kernelspec": {
   "display_name": "Python 3 (ipykernel)",
   "language": "python",
   "name": "python3"
  },
  "language_info": {
   "codemirror_mode": {
    "name": "ipython",
    "version": 3
   },
   "file_extension": ".py",
   "mimetype": "text/x-python",
   "name": "python",
   "nbconvert_exporter": "python",
   "pygments_lexer": "ipython3",
   "version": "3.11.4"
  }
 },
 "nbformat": 4,
 "nbformat_minor": 5
}
