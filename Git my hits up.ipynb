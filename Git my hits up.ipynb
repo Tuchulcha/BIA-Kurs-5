{
 "cells": [
  {
   "cell_type": "code",
   "execution_count": null,
   "id": "c4166002",
   "metadata": {},
   "outputs": [],
   "source": [
    "import subprocess\n",
    "\n",
    "def run_command(command_list):\n",
    "    try:\n",
    "        result = subprocess.run(command_list, stdout=subprocess.PIPE, stderr=subprocess.PIPE, text=True, check=True)\n",
    "        print(f\"Success:\\n{result.stdout}\")\n",
    "    except subprocess.CalledProcessError as e:\n",
    "        print(f\"Failed:\\n{e.stderr}\")\n",
    "\n",
    "# Initialize Git repo\n",
    "run_command([\"git\", \"init\"])\n",
    "\n",
    "# Add remote origin (Replace with your repo URL)\n",
    "run_command([\"git\", \"remote\", \"add\", \"origin\", \"https://github.com/YourUsername/YourRepo.git\"])\n",
    "\n",
    "# Add all files to the commit\n",
    "run_command([\"git\", \"add\", \".\"])\n",
    "\n",
    "# Commit the changes\n",
    "run_command([\"git\", \"commit\", \"-m\", \"Initial commit\"])\n",
    "\n",
    "# Push to GitHub\n",
    "run_command([\"git\", \"push\", \"-u\", \"origin\", \"master\"])\n"
   ]
  }
 ],
 "metadata": {
  "kernelspec": {
   "display_name": "Python 3 (ipykernel)",
   "language": "python",
   "name": "python3"
  },
  "language_info": {
   "codemirror_mode": {
    "name": "ipython",
    "version": 3
   },
   "file_extension": ".py",
   "mimetype": "text/x-python",
   "name": "python",
   "nbconvert_exporter": "python",
   "pygments_lexer": "ipython3",
   "version": "3.11.4"
  }
 },
 "nbformat": 4,
 "nbformat_minor": 5
}
