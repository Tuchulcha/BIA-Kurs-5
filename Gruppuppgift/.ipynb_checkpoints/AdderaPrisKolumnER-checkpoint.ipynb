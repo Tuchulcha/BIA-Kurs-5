{
 "cells": [
  {
   "cell_type": "code",
   "execution_count": 1,
   "id": "e103bc31",
   "metadata": {},
   "outputs": [],
   "source": [
    "import pandas as pd\n",
    "import numpy as np\n",
    "import os\n",
    "\n",
    "try:\n",
    "    df = pd.read_csv(r'C:\\Users\\Tono\\My Drive\\Laptop\\Kurs 5\\patronik_product_data.csv', encoding='ISO-8859-1')\n",
    "    df_head = df.head()\n",
    "except Exception as e:\n",
    "    df_head = str(e)\n",
    "\n",
    "# Generate random prices between 50 and 100 for 'ListPurchasePrice'\n",
    "num_rows = df.shape[0]\n",
    "random_purchase_prices = np.random.uniform(50, 100, num_rows)\n",
    "\n",
    "# Generate random additional values using exponential distribution with scale 3\n",
    "random_additional_values = np.random.exponential(10, num_rows)\n",
    "\n",
    "\n",
    "# Add the new columns to the DataFrame\n",
    "df['ListPurchasePrice'] = random_purchase_prices\n",
    "df['ListSellingPrice'] = df['ListPurchasePrice'] + random_additional_values\n",
    "\n",
    "counter = 1\n",
    "while True:\n",
    "    output_file_path = f'C:\\\\Users\\\\Tono\\\\BIA-Kurs-5\\\\Gruppuppgift\\\\patronik_product_data_with_list_prices_{counter}.csv'\n",
    "    if not os.path.exists(output_file_path):\n",
    "        break\n",
    "    counter += 1\n",
    "\n",
    "df.to_csv(output_file_path, index=False)\n",
    "output_file_path"
   ]
  }
 ],
 "metadata": {
  "kernelspec": {
   "display_name": "Python 3 (ipykernel)",
   "language": "python",
   "name": "python3"
  },
  "language_info": {
   "codemirror_mode": {
    "name": "ipython",
    "version": 3
   },
   "file_extension": ".py",
   "mimetype": "text/x-python",
   "name": "python",
   "nbconvert_exporter": "python",
   "pygments_lexer": "ipython3",
   "version": "3.11.4"
  }
 },
 "nbformat": 4,
 "nbformat_minor": 5
}
