{
 "cells": [
  {
   "cell_type": "code",
   "execution_count": null,
   "id": "e82de71b",
   "metadata": {},
   "outputs": [
    {
     "name": "stdout",
     "output_type": "stream",
     "text": [
      "Starting time: 2023-09-24 04:57:29\n",
      "Progress: [|.........]\n",
      "Time at this progress point: 2023-09-24 04:58:52\n",
      "Progress: [||........]\n",
      "Time at this progress point: 2023-09-24 05:01:15\n",
      "Progress: [|||.......]\n",
      "Time at this progress point: 2023-09-24 05:04:47\n",
      "Progress: [||||......]\n",
      "Time at this progress point: 2023-09-24 05:09:18\n"
     ]
    }
   ],
   "source": [
    "import pandas as pd\n",
    "from datetime import datetime, timedelta\n",
    "\n",
    "dp_df = pd.read_csv(r'C:\\Users\\Tono\\BIA-Kurs-5\\Gruppuppgift\\20230923Fest\\DimProducts.csv')\n",
    "fpi_df = pd.read_csv(r'C:\\Users\\Tono\\BIA-Kurs-5\\Gruppuppgift\\20230923Fest\\FactProductInventory.csv')\n",
    "\n",
    "# Filter out rows where UnitsOut == 0 in FactProductInventory\n",
    "filtered_fpi_df = fpi_df[fpi_df['UnitsOut'] != 0]\n",
    "\n",
    "# Display first few rows of the filtered DataFrame\n",
    "filtered_fpi_df.head()\n",
    "\n",
    "# Initialize an empty DataFrame for 'FactInternetSales' with the specified columns\n",
    "fis_columns = ['ProductN', 'ListPurchasePrice', 'ListSellingPrice', \n",
    "               'SalesQuantity', 'SalesOrderNumber', 'OrderDate', 'InventoryMovementKey']\n",
    "fis_df = pd.DataFrame(columns=fis_columns)\n",
    "\n",
    "# Initialize SalesOrderNumber to start at 1\n",
    "sales_order_number = 1\n",
    "\n",
    "# För kåntern\n",
    "one_tenth = len(filtered_fpi_df) // 10 \n",
    "counter = 0 \n",
    "print(f\"Starting time: {datetime.now().strftime('%Y-%m-%d %H:%M:%S')}\")\n",
    "\n",
    "progress_bar = ['.' for _ in range(10)]\n",
    "\n",
    "# Loop through the filtered FPI rows and populate FIS\n",
    "for idx, row in filtered_fpi_df.iterrows():\n",
    "    # En kånter\n",
    "    counter += 1\n",
    "    if counter % one_tenth == 0:\n",
    "        # Replace '.' with '|'\n",
    "        progress_bar[(counter // one_tenth) - 1] = '|'\n",
    "        print(f\"Progress: [{''.join(progress_bar)}]\")\n",
    "        print(f\"Time at this progress point: {datetime.now().strftime('%Y-%m-%d %H:%M:%S')}\")\n",
    "    # Match DP.product_id with FIS.ProductN and get the corresponding ListPurchasePrice and ListSellingPrice\n",
    "    matched_row = dp_df[dp_df['product_id'] == row['ProductN']].iloc[0]\n",
    "    \n",
    "    # Create a new row for FIS\n",
    "    new_row = {\n",
    "        'ProductN': row['ProductN'],\n",
    "        'ListPurchasePrice': matched_row['ListPurchasePrice'],\n",
    "        'ListSellingPrice': matched_row['ListSellingPrice'],\n",
    "        'SalesQuantity': row['UnitsOut'],\n",
    "        'SalesOrderNumber': sales_order_number,\n",
    "        'OrderDate': row['MovementDate'],\n",
    "        'InventoryMovementKey': row['InventoryMovementKey']\n",
    "    }\n",
    "    \n",
    "    # Append the new row to FIS DataFrame\n",
    "    fis_df = pd.concat([fis_df, pd.DataFrame([new_row])], ignore_index=True)\n",
    "\n",
    "    \n",
    "    # Increment SalesOrderNumber for next row\n",
    "    sales_order_number += 1\n",
    "\n",
    "# Show first few rows of the newly created FactInternetSales DataFrame\n",
    "fis_df.head()\n"
   ]
  },
  {
   "cell_type": "code",
   "execution_count": null,
   "id": "69ec7e61",
   "metadata": {},
   "outputs": [],
   "source": [
    "inventory_df.to_csv('FactInternetSales.csv', index=False)"
   ]
  }
 ],
 "metadata": {
  "kernelspec": {
   "display_name": "Python 3 (ipykernel)",
   "language": "python",
   "name": "python3"
  },
  "language_info": {
   "codemirror_mode": {
    "name": "ipython",
    "version": 3
   },
   "file_extension": ".py",
   "mimetype": "text/x-python",
   "name": "python",
   "nbconvert_exporter": "python",
   "pygments_lexer": "ipython3",
   "version": "3.11.4"
  }
 },
 "nbformat": 4,
 "nbformat_minor": 5
}
