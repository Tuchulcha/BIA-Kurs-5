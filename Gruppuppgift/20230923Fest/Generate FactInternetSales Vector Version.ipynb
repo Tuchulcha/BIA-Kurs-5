{
 "cells": [
  {
   "cell_type": "code",
   "execution_count": 2,
   "id": "e82de71b",
   "metadata": {},
   "outputs": [
    {
     "name": "stdout",
     "output_type": "stream",
     "text": [
      "   ProductN  ListPurchasePrice  ListSellingPrice  SalesQuantity  \\\n",
      "0         1          55.642015         64.002641              2   \n",
      "1         2          86.072751         99.108264              2   \n",
      "2         2          86.072751         99.108264              1   \n",
      "3         3          63.449892         79.611826              2   \n",
      "4         3          63.449892         79.611826              1   \n",
      "\n",
      "   SalesOrderNumber   OrderDate  InventoryMovementKey  \n",
      "0                 1  2020-01-01                     2  \n",
      "1                 2  2020-01-01                     4  \n",
      "2                 3  2020-01-01                     5  \n",
      "3                 4  2020-01-01                     7  \n",
      "4                 5  2020-01-01                     8  \n"
     ]
    }
   ],
   "source": [
    "import pandas as pd\n",
    "from datetime import datetime\n",
    "\n",
    "# Read the CSV files into Pandas DataFrames\n",
    "dp_df = pd.read_csv(r'C:\\Users\\Tono\\BIA-Kurs-5\\Gruppuppgift\\20230923Fest\\DimProducts.csv')\n",
    "fpi_df = pd.read_csv(r'C:\\Users\\Tono\\BIA-Kurs-5\\Gruppuppgift\\20230923Fest\\FactProductInventory.csv')\n",
    "\n",
    "# Filter out rows where UnitsOut == 0 in FactProductInventory\n",
    "filtered_fpi_df = fpi_df[fpi_df['UnitsOut'] != 0]\n",
    "\n",
    "# Merge the filtered_fpi_df with dp_df on the ProductN column\n",
    "merged_df = pd.merge(filtered_fpi_df, dp_df, left_on='ProductN', right_on='product_id', how='left')\n",
    "\n",
    "# Initialize SalesOrderNumber to start at 1 and create a new column\n",
    "merged_df['SalesOrderNumber'] = range(1, len(merged_df) + 1)\n",
    "\n",
    "# Define the columns for the new DataFrame\n",
    "fis_columns = ['ProductN', 'ListPurchasePrice', 'ListSellingPrice', 'SalesQuantity', 'SalesOrderNumber', 'OrderDate', 'InventoryMovementKey']\n",
    "\n",
    "# Create fis_df by selecting and renaming the required columns\n",
    "fis_df = merged_df.rename(columns={\n",
    "    'ProductN': 'ProductN',\n",
    "    'ListPurchasePrice': 'ListPurchasePrice',\n",
    "    'ListSellingPrice': 'ListSellingPrice',\n",
    "    'UnitsOut': 'SalesQuantity',\n",
    "    'MovementDate': 'OrderDate',\n",
    "    'InventoryMovementKey': 'InventoryMovementKey',\n",
    "    'SalesOrderNumber': 'SalesOrderNumber'\n",
    "})[fis_columns]\n",
    "\n",
    "# Show the first few rows of fis_df\n",
    "print(fis_df.head())\n"
   ]
  },
  {
   "cell_type": "code",
   "execution_count": 4,
   "id": "69ec7e61",
   "metadata": {},
   "outputs": [],
   "source": [
    "fis_df.to_csv('FactInternetSalesByVector.csv', index=False)"
   ]
  },
  {
   "cell_type": "code",
   "execution_count": null,
   "id": "271f3018",
   "metadata": {},
   "outputs": [],
   "source": []
  }
 ],
 "metadata": {
  "kernelspec": {
   "display_name": "Python 3 (ipykernel)",
   "language": "python",
   "name": "python3"
  },
  "language_info": {
   "codemirror_mode": {
    "name": "ipython",
    "version": 3
   },
   "file_extension": ".py",
   "mimetype": "text/x-python",
   "name": "python",
   "nbconvert_exporter": "python",
   "pygments_lexer": "ipython3",
   "version": "3.11.4"
  }
 },
 "nbformat": 4,
 "nbformat_minor": 5
}
