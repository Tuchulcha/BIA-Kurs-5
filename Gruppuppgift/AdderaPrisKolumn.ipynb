{
 "cells": [
  {
   "cell_type": "code",
   "execution_count": 1,
   "id": "e103bc31",
   "metadata": {},
   "outputs": [
    {
     "data": {
      "text/plain": [
       "'C:\\\\Users\\\\Tono\\\\My Drive\\\\Laptop\\\\Kurs 5\\\\patronik_product_data_with_unit_price.csv'"
      ]
     },
     "execution_count": 1,
     "metadata": {},
     "output_type": "execute_result"
    }
   ],
   "source": [
    "import pandas as pd\n",
    "import numpy as np\n",
    "\n",
    "try:\n",
    "    df = pd.read_csv(r'C:\\Users\\Tono\\My Drive\\Laptop\\Kurs 5\\patronik_product_data.csv', encoding='ISO-8859-1')\n",
    "    df_head = df.head()\n",
    "except Exception as e:\n",
    "    df_head = str(e)\n",
    "\n",
    "# Generate random prices between 50 and 100 for the new 'UnitPrice' column\n",
    "num_rows = df.shape[0]\n",
    "random_prices = np.random.uniform(50, 100, num_rows)\n",
    "\n",
    "# Add the new column to the DataFrame\n",
    "df['UnitPrice'] = random_prices\n",
    "\n",
    "output_file_path = r'C:\\Users\\Tono\\My Drive\\Laptop\\Kurs 5\\patronik_product_data_with_unit_price.csv'\n",
    "df.to_csv(output_file_path, index=False)\n",
    "\n",
    "output_file_path\n"
   ]
  }
 ],
 "metadata": {
  "kernelspec": {
   "display_name": "Python 3 (ipykernel)",
   "language": "python",
   "name": "python3"
  },
  "language_info": {
   "codemirror_mode": {
    "name": "ipython",
    "version": 3
   },
   "file_extension": ".py",
   "mimetype": "text/x-python",
   "name": "python",
   "nbconvert_exporter": "python",
   "pygments_lexer": "ipython3",
   "version": "3.11.4"
  }
 },
 "nbformat": 4,
 "nbformat_minor": 5
}
