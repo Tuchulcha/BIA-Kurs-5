{
 "cells": [
  {
   "cell_type": "code",
   "execution_count": 2,
   "id": "4b9ffbcb",
   "metadata": {},
   "outputs": [],
   "source": [
    "#Dependencies\n",
    "import pandas as pd"
   ]
  },
  {
   "cell_type": "code",
   "execution_count": 3,
   "id": "28f49b56",
   "metadata": {},
   "outputs": [],
   "source": [
    "#Datumtabell\n",
    "\n",
    "# Create date range\n",
    "date_range = pd.date_range(start='2020-01-01', end='2022-12-31', freq='D')\n",
    "\n",
    "# Create DataFrame\n",
    "df = pd.DataFrame(date_range, columns=['Date'])\n",
    "\n",
    "# Add various date parts\n",
    "df['Year'] = df['Date'].dt.year\n",
    "df['Month'] = df['Date'].dt.month\n",
    "df['Day'] = df['Date'].dt.day\n",
    "df['Quarter'] = df['Date'].dt.quarter\n",
    "df['Weekday'] = df['Date'].dt.weekday\n",
    "df['WeekOfYear'] = df['Date'].dt.isocalendar().week\n",
    "\n",
    "# Create some custom columns\n",
    "df['IsWeekend'] = df['Weekday'].apply(lambda x: 1 if x >= 5 else 0)\n",
    "df['IsHoliday'] = 0  # You can add your own logic here\n",
    "df['MonthName'] = df['Date'].dt.strftime('%B')\n",
    "df['DayName'] = df['Date'].dt.strftime('%A')\n",
    "\n",
    "# Uncomment to save to a CSV\n",
    "df.to_csv(r'C:\\Users\\Tono\\BIA-Kurs-5\\Gruppuppgift\\20230923Fest\\DimDate.csv', index=False)\n"
   ]
  },
  {
   "cell_type": "code",
   "execution_count": 4,
   "id": "ae9349f6",
   "metadata": {},
   "outputs": [
    {
     "name": "stdout",
     "output_type": "stream",
     "text": [
      "        Date  Year  Month  Day  Quarter  Weekday  WeekOfYear  IsWeekend  \\\n",
      "0 2020-01-01  2020      1    1        1        2           1          0   \n",
      "1 2020-01-02  2020      1    2        1        3           1          0   \n",
      "2 2020-01-03  2020      1    3        1        4           1          0   \n",
      "3 2020-01-04  2020      1    4        1        5           1          1   \n",
      "4 2020-01-05  2020      1    5        1        6           1          1   \n",
      "\n",
      "   IsHoliday MonthName    DayName  \n",
      "0          0   January  Wednesday  \n",
      "1          0   January   Thursday  \n",
      "2          0   January     Friday  \n",
      "3          0   January   Saturday  \n",
      "4          0   January     Sunday  \n"
     ]
    }
   ],
   "source": [
    "print(df.head())"
   ]
  },
  {
   "cell_type": "code",
   "execution_count": null,
   "id": "bc464627",
   "metadata": {},
   "outputs": [],
   "source": []
  }
 ],
 "metadata": {
  "kernelspec": {
   "display_name": "Python 3 (ipykernel)",
   "language": "python",
   "name": "python3"
  },
  "language_info": {
   "codemirror_mode": {
    "name": "ipython",
    "version": 3
   },
   "file_extension": ".py",
   "mimetype": "text/x-python",
   "name": "python",
   "nbconvert_exporter": "python",
   "pygments_lexer": "ipython3",
   "version": "3.11.4"
  }
 },
 "nbformat": 4,
 "nbformat_minor": 5
}
