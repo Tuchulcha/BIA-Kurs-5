{
 "cells": [
  {
   "cell_type": "code",
   "execution_count": 1,
   "id": "126473b7",
   "metadata": {},
   "outputs": [],
   "source": [
    "import pandas as pd\n",
    "import random\n",
    "from datetime import datetime\n",
    "\n",
    "# Read the products.csv file\n",
    "products_df = pd.read_csv(r'C:\\Users\\Tono\\My Drive\\Laptop\\Kurs 5\\patronik_product_data.csv', encoding='ISO-8859-1')\n",
    "\n",
    "# Create an empty DataFrame for the inventory data\n",
    "columns = ['InventoryMovementKey', 'MovementDate', 'ProductN', 'UnitsIn', 'UnitsOut', 'UnitsBalance']\n",
    "inventory_df = pd.DataFrame(columns=columns)\n",
    "\n",
    "# Initialize the InventoryMovementKey and UnitsBalance dictionary\n",
    "inventory_key = 0\n",
    "units_balance_dict = {}\n",
    "\n",
    "# Sample list of dates (Replace with your list)\n",
    "dates = ['2023-09-01', '2023-09-02', '2023-09-03']\n",
    "\n",
    "# Loop through dates\n",
    "for date in dates:\n",
    "    # Loop through each product\n",
    "    for index, row in products_df.iterrows():\n",
    "        product_id = row['product_id']\n",
    "        \n",
    "        # Initialize UnitsBalance if the product is new\n",
    "        if product_id not in units_balance_dict:\n",
    "            units_balance_dict[product_id] = 0\n",
    "\n",
    "        # 50% chance to generate UnitsIn\n",
    "        if random.random() < 0.5:\n",
    "            units_in = random.randint(10, 20)\n",
    "            units_balance_dict[product_id] += units_in\n",
    "            inventory_key += 1\n",
    "            new_row = {'InventoryMovementKey': inventory_key, 'MovementDate': date, 'ProductN': product_id, 'UnitsIn': units_in, 'UnitsOut': 0, 'UnitsBalance': units_balance_dict[product_id]}\n",
    "            inventory_df = inventory_df._append(new_row, ignore_index=True)\n",
    "\n",
    "        # Chance to generate 0-5 rows for UnitsOut\n",
    "        num_rows_out = random.randint(0, 5)\n",
    "        for _ in range(num_rows_out):\n",
    "            if units_balance_dict[product_id] == 0:\n",
    "                break\n",
    "            \n",
    "            units_out = random.randint(1, 7)\n",
    "            if units_balance_dict[product_id] - units_out < 0:\n",
    "                units_out = units_balance_dict[product_id]\n",
    "                \n",
    "            units_balance_dict[product_id] -= units_out\n",
    "            inventory_key += 1\n",
    "            new_row = {'InventoryMovementKey': inventory_key, 'MovementDate': date, 'ProductN': product_id, 'UnitsIn': 0, 'UnitsOut': units_out, 'UnitsBalance': units_balance_dict[product_id]}\n",
    "            inventory_df = inventory_df._append(new_row, ignore_index=True)\n",
    "\n",
    "# Save to CSV\n",
    "inventory_df.to_csv('inventoryHiddenMethod.csv', index=False)\n"
   ]
  }
 ],
 "metadata": {
  "kernelspec": {
   "display_name": "Python 3 (ipykernel)",
   "language": "python",
   "name": "python3"
  },
  "language_info": {
   "codemirror_mode": {
    "name": "ipython",
    "version": 3
   },
   "file_extension": ".py",
   "mimetype": "text/x-python",
   "name": "python",
   "nbconvert_exporter": "python",
   "pygments_lexer": "ipython3",
   "version": "3.9.13"
  }
 },
 "nbformat": 4,
 "nbformat_minor": 5
}
