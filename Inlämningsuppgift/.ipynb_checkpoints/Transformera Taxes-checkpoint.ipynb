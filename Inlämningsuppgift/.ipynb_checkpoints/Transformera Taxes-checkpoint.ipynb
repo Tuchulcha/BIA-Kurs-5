{
 "cells": [
  {
   "cell_type": "code",
   "execution_count": null,
   "id": "679f7814",
   "metadata": {},
   "outputs": [],
   "source": [
    "# Filter the dataset to keep only the latest row per country based on the 'Year' column\n",
    "latest_tax_data_df = tax_data_df.sort_values(by=['Country', 'Year'], ascending=[True, False]).drop_duplicates(subset=['Country'], keep='first')\n",
    "# Show the first few rows of the filtered data\n",
    "latest_tax_data_df.head()\n"
   ]
  },
  {
   "cell_type": "markdown",
   "id": "44ebf7c7",
   "metadata": {},
   "source": [
    "Intressant att CGPT valde att göra allt på en rad för första gången. Sorteringen ascending=[True, False] innebär att Country är ascending. A är först i alfabetet 1,2,3 = a,b,c\n",
    "Year är inte ascending, i den här implementeringen blir ett false på ascending att det är det descending. \n",
    "Rent tekniskt utvärderar alla sorteringar som inte strikt fyller kravet ascending = False.\n",
    "Det är kul att implementeringen sorterar descending om ascending ska vara False, den kunde ha lämnat det osorterat? \n",
    "(men då behöver den kolla att det inte råkar bli ascending, så det skulle inte spara allt arbete den nu gör, oavsett.)"
   ]
  }
 ],
 "metadata": {
  "kernelspec": {
   "display_name": "Python 3 (ipykernel)",
   "language": "python",
   "name": "python3"
  },
  "language_info": {
   "codemirror_mode": {
    "name": "ipython",
    "version": 3
   },
   "file_extension": ".py",
   "mimetype": "text/x-python",
   "name": "python",
   "nbconvert_exporter": "python",
   "pygments_lexer": "ipython3",
   "version": "3.11.4"
  }
 },
 "nbformat": 4,
 "nbformat_minor": 5
}
