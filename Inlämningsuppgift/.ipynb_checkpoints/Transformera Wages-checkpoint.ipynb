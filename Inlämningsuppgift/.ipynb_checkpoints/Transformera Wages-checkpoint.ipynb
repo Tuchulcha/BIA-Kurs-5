{
 "cells": [
  {
   "cell_type": "code",
   "execution_count": 19,
   "id": "63175e0b",
   "metadata": {},
   "outputs": [],
   "source": [
    "##Utgå ifrån dataset om wages och om taxes."
   ]
  },
  {
   "cell_type": "code",
   "execution_count": 20,
   "id": "6bd9ca68",
   "metadata": {},
   "outputs": [],
   "source": [
    "import pandas as pd"
   ]
  },
  {
   "cell_type": "code",
   "execution_count": 21,
   "id": "1e1a1bf2",
   "metadata": {},
   "outputs": [],
   "source": [
    "# In med wages i dataframe\n",
    "file_path = 'F:\\YinYang\\BIA utbildning\\Kurs 5 Design och Visualisering\\Vecka 4\\orgAverage Annual Wages.csv'\n",
    "wage_df = pd.read_csv(file_path)"
   ]
  },
  {
   "cell_type": "code",
   "execution_count": 23,
   "id": "ffa75dd7",
   "metadata": {},
   "outputs": [],
   "source": [
    "##USDPPP är lönen konverterad till USD, vilket är vad jag vill ha. Plocka ut senaste värdet per land"
   ]
  },
  {
   "cell_type": "code",
   "execution_count": 30,
   "id": "8c52ed00",
   "metadata": {},
   "outputs": [
    {
     "name": "stdout",
     "output_type": "stream",
     "text": [
      "       Country         Value\n",
      "0    Australia  59407.889979\n",
      "1      Austria  63801.620498\n",
      "2      Belgium  64847.623881\n",
      "3       Canada  59050.407282\n",
      "4  Switzerland  72993.024335\n"
     ]
    }
   ],
   "source": [
    "# Filter the DataFrame to only include rows where the 'SERIES' column is 'USDPPP'\n",
    "usdppp_latest_wage_df = wage_df[wage_df['SERIES'] == 'USDPPP']\n",
    "\n",
    "# Sort the DataFrame by 'COUNTRY' and 'TIME' to get the latest available wage for each country in USDPPP series\n",
    "sorted_usdppp_wage_df = usdppp_latest_wage_df.sort_values(['COUNTRY', 'TIME'], ascending=[True, False])\n",
    "\n",
    "# Drop duplicates, keeping the first occurrence (which is the latest due to sorting)\n",
    "latest_usdppp_wage_df = sorted_usdppp_wage_df.drop_duplicates(subset=['COUNTRY'], keep='first').reset_index(drop=True)\n",
    "\n",
    "#Spara bara kolumnerna jag är intresserad av\n",
    "new_wage_df = latest_usdppp_wage_df[['Country', 'Value']].copy()\n",
    "\n",
    "#Kolla läget\n",
    "print(new_wage_df.head())"
   ]
  },
  {
   "cell_type": "code",
   "execution_count": 32,
   "id": "c8d7256f",
   "metadata": {},
   "outputs": [
    {
     "name": "stdout",
     "output_type": "stream",
     "text": [
      "       Country         Value Country_ISO\n",
      "0    Australia  59407.889979          AU\n",
      "1      Austria  63801.620498          AT\n",
      "2      Belgium  64847.623881          BE\n",
      "3       Canada  59050.407282          CA\n",
      "4  Switzerland  72993.024335          CH\n"
     ]
    }
   ],
   "source": [
    "#Dags för Country_ISO\n",
    "import pycountry\n",
    "\n",
    "# Reverse the mapping to go from country name to ISO code\n",
    "country_to_iso = {country.name: country.alpha_2 for country in pycountry.countries}\n",
    "\n",
    "# Update the 'Country_ISO' column\n",
    "new_wage_df['Country_ISO'] = new_wage_df['Country'].map(country_to_iso)\n",
    "\n",
    "# Check the DataFrame again\n",
    "print(new_wage_df.head())"
   ]
  },
  {
   "cell_type": "code",
   "execution_count": 33,
   "id": "6d8fe2fa",
   "metadata": {},
   "outputs": [],
   "source": [
    "# Save this filtered DataFrame to a new CSV file\n",
    "new_wage_df_file_path = 'F:\\YinYang\\BIA utbildning\\Kurs 5 Design och Visualisering\\Vecka 4\\AAW.csv'\n",
    "new_wage_df.to_csv(new_wage_df_file_path, index=False)"
   ]
  }
 ],
 "metadata": {
  "kernelspec": {
   "display_name": "Python 3 (ipykernel)",
   "language": "python",
   "name": "python3"
  },
  "language_info": {
   "codemirror_mode": {
    "name": "ipython",
    "version": 3
   },
   "file_extension": ".py",
   "mimetype": "text/x-python",
   "name": "python",
   "nbconvert_exporter": "python",
   "pygments_lexer": "ipython3",
   "version": "3.11.4"
  }
 },
 "nbformat": 4,
 "nbformat_minor": 5
}
