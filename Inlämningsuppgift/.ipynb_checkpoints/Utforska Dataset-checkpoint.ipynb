{
 "cells": [
  {
   "cell_type": "code",
   "execution_count": 1,
   "id": "17c1a0be",
   "metadata": {},
   "outputs": [],
   "source": [
    "import pandas as pd"
   ]
  },
  {
   "cell_type": "code",
   "execution_count": null,
   "id": "42feb42e",
   "metadata": {},
   "outputs": [],
   "source": []
  },
  {
   "cell_type": "code",
   "execution_count": 2,
   "id": "63ea40fc",
   "metadata": {},
   "outputs": [],
   "source": [
    "#Data med Cost of Living Index\n",
    "COLI = pd.read_csv('F:/YinYang/BIA utbildning/Kurs 5 Design och Visualisering/Vecka 2/Cost_of_Living_Index_2022_withCountryISO.csv')"
   ]
  },
  {
   "cell_type": "code",
   "execution_count": 3,
   "id": "1d4f0549",
   "metadata": {},
   "outputs": [
    {
     "name": "stdout",
     "output_type": "stream",
     "text": [
      "Index(['Rank', 'Country', 'Cost of Living Index', 'Rent Index',\n",
      "       'Cost of Living Plus Rent Index', 'Groceries Index',\n",
      "       'Restaurant Price Index', 'Local Purchasing Power Index',\n",
      "       'Country Code'],\n",
      "      dtype='object')\n"
     ]
    }
   ],
   "source": [
    "print(COLI.columns)"
   ]
  },
  {
   "cell_type": "code",
   "execution_count": 4,
   "id": "4bab5db0",
   "metadata": {},
   "outputs": [],
   "source": [
    "#Data med Lön för Data Scientists\n",
    "SALARY = pd.read_csv('F:/YinYang/BIA utbildning/Kurs 5 Design och Visualisering/Vecka 2/Data Science Salary 2021 to 2023.csv')"
   ]
  },
  {
   "cell_type": "code",
   "execution_count": 5,
   "id": "d03fd284",
   "metadata": {},
   "outputs": [
    {
     "name": "stdout",
     "output_type": "stream",
     "text": [
      "Index(['work_year', 'experience_level', 'employment_type', 'job_title',\n",
      "       'salary', 'salary_currency', 'salary_in_usd', 'company_location',\n",
      "       'company_size'],\n",
      "      dtype='object')\n"
     ]
    }
   ],
   "source": [
    "print(SALARY.columns)"
   ]
  },
  {
   "cell_type": "code",
   "execution_count": 6,
   "id": "e3354bdd",
   "metadata": {},
   "outputs": [
    {
     "name": "stdout",
     "output_type": "stream",
     "text": [
      "    Country Code  Cost of Living Index\n",
      "0             AF                 20.37\n",
      "1             AL                 35.50\n",
      "2             DZ                 26.87\n",
      "3             AR                 34.69\n",
      "4             AM                 33.89\n",
      "..           ...                   ...\n",
      "134           VE                 43.20\n",
      "135           VN                 37.48\n",
      "136           YE                 53.14\n",
      "137           ZM                 33.04\n",
      "138           ZW                 45.68\n",
      "\n",
      "[139 rows x 2 columns]\n"
     ]
    }
   ],
   "source": [
    "print(COLI[['Country Code', 'Cost of Living Index']])"
   ]
  },
  {
   "cell_type": "code",
   "execution_count": 12,
   "id": "98ff942e",
   "metadata": {},
   "outputs": [],
   "source": [
    "unika_titlar = SALARY['job_title'].unique()\n",
    "antal_titlar = SALARY['job_title'].nunique()\n",
    "unika_experience = SALARY['experience_level'].unique()\n",
    "antal_experience = SALARY['experience_level'].nunique()"
   ]
  },
  {
   "cell_type": "code",
   "execution_count": 13,
   "id": "5fd8be33",
   "metadata": {},
   "outputs": [
    {
     "name": "stdout",
     "output_type": "stream",
     "text": [
      "93 Unika Titlar ['Applied Scientist' 'Data Quality Analyst' 'Compliance Data Analyst'\n",
      " 'Machine Learning Engineer' 'Research Scientist' 'Data Engineer'\n",
      " 'Data Analyst' 'Data Scientist' 'BI Data Engineer' 'Research Engineer'\n",
      " 'Business Data Analyst' 'Autonomous Vehicle Technician'\n",
      " 'Applied Machine Learning Scientist' 'AI Programmer' 'AI Developer'\n",
      " 'Computer Vision Engineer' 'BI Developer' 'Big Data Engineer'\n",
      " 'Deep Learning Engineer' 'Head of Data' 'Analytics Engineer'\n",
      " 'Data Architect' 'Director of Data Science' 'Head of Data Science'\n",
      " 'Data Analytics Manager' 'ML Engineer'\n",
      " 'Applied Machine Learning Engineer' 'Applied Data Scientist'\n",
      " 'ETL Engineer' 'Data Specialist' 'Lead Data Analyst' 'Data Manager'\n",
      " 'Machine Learning Scientist' 'MLOps Engineer' 'Financial Data Analyst'\n",
      " 'Software Data Engineer' 'Data Science Manager' 'Data Science Consultant'\n",
      " 'Machine Learning Infrastructure Engineer' 'Insight Analyst'\n",
      " 'AI Scientist' 'Data Infrastructure Engineer' 'Data Science Lead'\n",
      " 'Product Data Analyst' 'Data Analytics Lead'\n",
      " 'Machine Learning Research Engineer' 'Principal Data Scientist'\n",
      " 'Data Modeler' 'Business Intelligence Engineer' 'Data Strategist'\n",
      " 'Data DevOps Engineer' 'Machine Learning Researcher'\n",
      " 'Cloud Database Engineer' 'Data Operations Engineer'\n",
      " 'Deep Learning Researcher' 'BI Analyst' 'Data Analytics Specialist'\n",
      " 'BI Data Analyst' 'Machine Learning Software Engineer'\n",
      " 'Big Data Architect' 'Computer Vision Software Engineer'\n",
      " 'Azure Data Engineer' 'Data Lead' 'Data Science Engineer' 'NLP Engineer'\n",
      " 'Machine Learning Developer' 'Data Analytics Engineer'\n",
      " 'Data Analytics Consultant' '3D Computer Vision Researcher'\n",
      " 'Lead Data Engineer' 'Head of Machine Learning' 'Data Scientist Lead'\n",
      " 'Lead Data Scientist' 'ETL Developer' 'Principal Data Analyst'\n",
      " 'Manager Data Management' 'Principal Machine Learning Engineer'\n",
      " 'Data Management Specialist' 'Data Science Tech Lead'\n",
      " 'Cloud Data Engineer' 'Data Operations Analyst' 'Marketing Data Analyst'\n",
      " 'Product Data Scientist' 'Principal Data Architect'\n",
      " 'Machine Learning Manager' 'Lead Machine Learning Engineer'\n",
      " 'Marketing Data Engineer' 'Power BI Developer' 'Cloud Data Architect'\n",
      " 'Principal Data Engineer' 'Staff Data Scientist' 'Finance Data Analyst'\n",
      " 'Staff Data Analyst']\n",
      "4 Unika Erfarenhetsnivåer ['EN' 'EX' 'MI' 'SE']\n"
     ]
    }
   ],
   "source": [
    "print(antal_titlar, \"Unika Titlar\", unika_titlar)\n",
    "print(antal_experience, \"Unika Erfarenhetsnivåer\", unika_experience)"
   ]
  },
  {
   "cell_type": "code",
   "execution_count": null,
   "id": "483b0185",
   "metadata": {},
   "outputs": [],
   "source": [
    "Anställningstyper = SALARY['employment_type']"
   ]
  },
  {
   "cell_type": "markdown",
   "id": "b8f82ab4",
   "metadata": {},
   "source": [
    "Det finns både ML Engineer och Machine Learning Engineer"
   ]
  }
 ],
 "metadata": {
  "kernelspec": {
   "display_name": "Python 3 (ipykernel)",
   "language": "python",
   "name": "python3"
  },
  "language_info": {
   "codemirror_mode": {
    "name": "ipython",
    "version": 3
   },
   "file_extension": ".py",
   "mimetype": "text/x-python",
   "name": "python",
   "nbconvert_exporter": "python",
   "pygments_lexer": "ipython3",
   "version": "3.11.4"
  }
 },
 "nbformat": 4,
 "nbformat_minor": 5
}
