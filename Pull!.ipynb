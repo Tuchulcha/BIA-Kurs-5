{
 "cells": [
  {
   "cell_type": "markdown",
   "id": "e8125c1d",
   "metadata": {},
   "source": [
    "Pull mappen"
   ]
  },
  {
   "cell_type": "code",
   "execution_count": 1,
   "id": "9075da46",
   "metadata": {},
   "outputs": [],
   "source": [
    "import subprocess"
   ]
  },
  {
   "cell_type": "code",
   "execution_count": 2,
   "id": "2e22468d",
   "metadata": {},
   "outputs": [],
   "source": [
    "def run_command(command_list):\n",
    "    try:\n",
    "        result = subprocess.run(command_list, stdout=subprocess.PIPE, stderr=subprocess.PIPE, text=True, check=True)\n",
    "        print(f\"Success:\\n{result.stdout}\")\n",
    "    except subprocess.CalledProcessError as e:\n",
    "        print(f\"Failed:\\n{e.stderr}\")\n",
    "def pull_latest(branch=\"master\"):\n",
    "    run_command([\"git\", \"pull\", \"origin\", branch])"
   ]
  },
  {
   "cell_type": "code",
   "execution_count": 3,
   "id": "c9c43c85",
   "metadata": {},
   "outputs": [
    {
     "name": "stdout",
     "output_type": "stream",
     "text": [
      "Success:\n",
      "Already up to date.\n",
      "\n"
     ]
    }
   ],
   "source": [
    "pull_latest(\"master\")"
   ]
  },
  {
   "cell_type": "code",
   "execution_count": null,
   "id": "88c3c223",
   "metadata": {},
   "outputs": [],
   "source": []
  }
 ],
 "metadata": {
  "kernelspec": {
   "display_name": "Python 3 (ipykernel)",
   "language": "python",
   "name": "python3"
  },
  "language_info": {
   "codemirror_mode": {
    "name": "ipython",
    "version": 3
   },
   "file_extension": ".py",
   "mimetype": "text/x-python",
   "name": "python",
   "nbconvert_exporter": "python",
   "pygments_lexer": "ipython3",
   "version": "3.11.4"
  }
 },
 "nbformat": 4,
 "nbformat_minor": 5
}
