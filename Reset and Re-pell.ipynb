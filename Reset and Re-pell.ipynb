{
 "cells": [
  {
   "cell_type": "code",
   "execution_count": 1,
   "id": "2a224a16",
   "metadata": {},
   "outputs": [
    {
     "name": "stdout",
     "output_type": "stream",
     "text": [
      "Success:\n",
      "\n",
      "Success:\n",
      "HEAD is now at 6043362 Made some awesome changes\n",
      "\n",
      "Success:\n",
      "Already up to date.\n",
      "\n"
     ]
    }
   ],
   "source": [
    "import subprocess\n",
    "\n",
    "# Function to run shell commands and capture the output\n",
    "def run_command(command_list):\n",
    "    try:\n",
    "        result = subprocess.run(command_list, stdout=subprocess.PIPE, stderr=subprocess.PIPE, text=True, check=True)\n",
    "        print(f\"Success:\\n{result.stdout}\")\n",
    "    except subprocess.CalledProcessError as e:\n",
    "        print(f\"Failed:\\n{e.stderr}\")\n",
    "\n",
    "# Function to force pull and overwrite local with remote\n",
    "def force_pull(branch_name):\n",
    "    # Fetch the latest changes from remote\n",
    "    run_command([\"git\", \"fetch\", \"origin\"])\n",
    "  \n",
    "    # Hard reset to match the remote branch\n",
    "    run_command([\"git\", \"reset\", \"--hard\", f\"origin/{branch_name}\"])\n",
    "  \n",
    "    # Update the local repository\n",
    "    run_command([\"git\", \"pull\", \"origin\", branch_name])\n",
    "\n",
    "# Example usage\n",
    "force_pull(\"master\")\n"
   ]
  }
 ],
 "metadata": {
  "kernelspec": {
   "display_name": "Python 3 (ipykernel)",
   "language": "python",
   "name": "python3"
  },
  "language_info": {
   "codemirror_mode": {
    "name": "ipython",
    "version": 3
   },
   "file_extension": ".py",
   "mimetype": "text/x-python",
   "name": "python",
   "nbconvert_exporter": "python",
   "pygments_lexer": "ipython3",
   "version": "3.9.13"
  }
 },
 "nbformat": 4,
 "nbformat_minor": 5
}
