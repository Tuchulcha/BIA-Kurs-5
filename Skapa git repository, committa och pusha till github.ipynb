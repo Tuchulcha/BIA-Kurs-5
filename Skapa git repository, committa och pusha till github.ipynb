{
 "cells": [
  {
   "cell_type": "markdown",
   "id": "f496664b",
   "metadata": {},
   "source": [
    "##Skapar en git repo för mappen, committar den och pushar den till https://github.com/Tuchulcha/BIA-Kurs-5\n"
   ]
  },
  {
   "cell_type": "code",
   "execution_count": 2,
   "id": "c4166002",
   "metadata": {},
   "outputs": [
    {
     "name": "stdout",
     "output_type": "stream",
     "text": [
      "Success:\n",
      "Reinitialized existing Git repository in C:/Users/Tono/BIA-Kurs-5/.git/\n",
      "\n",
      "Failed:\n",
      "error: remote origin already exists.\n",
      "\n",
      "Success:\n",
      "\n",
      "Failed:\n",
      "\n",
      "Failed:\n",
      "remote: Permission to Tuchulcha/BIA-Kurs-5.git denied to Tuchulcha.\n",
      "fatal: unable to access 'https://github.com/Tuchulcha/BIA-Kurs-5.git/': The requested URL returned error: 403\n",
      "\n"
     ]
    }
   ],
   "source": [
    "##Den här cellen skapar repo lokalt, committar och pushar till github, köres en gång.\n",
    "\n",
    "import subprocess\n",
    "\n",
    "def run_command(command_list):\n",
    "    try:\n",
    "        result = subprocess.run(command_list, stdout=subprocess.PIPE, stderr=subprocess.PIPE, text=True, check=True)\n",
    "        print(f\"Success:\\n{result.stdout}\")\n",
    "    except subprocess.CalledProcessError as e:\n",
    "        print(f\"Failed:\\n{e.stderr}\")\n",
    "\n",
    "# Initialize Git repo\n",
    "run_command([\"git\", \"init\"])\n",
    "\n",
    "# Add remote origin (Replace with your repo URL)\n",
    "run_command([\"git\", \"remote\", \"add\", \"origin\", \"git@github.com:Tuchulcha/BIA-Kurs-5.git\"])  # Notice the SSH URL\n",
    "\n",
    "# Add all files to the commit\n",
    "run_command([\"git\", \"add\", \".\"])\n",
    "\n",
    "# Commit the changes\n",
    "run_command([\"git\", \"commit\", \"-m\", \"Initial commit\"])\n",
    "\n",
    "# Push to GitHub\n",
    "run_command([\"git\", \"push\", \"-u\", \"origin\", \"master\"])\n"
   ]
  },
  {
   "cell_type": "code",
   "execution_count": null,
   "id": "5a4ab31b",
   "metadata": {},
   "outputs": [],
   "source": []
  }
 ],
 "metadata": {
  "kernelspec": {
   "display_name": "Python 3 (ipykernel)",
   "language": "python",
   "name": "python3"
  },
  "language_info": {
   "codemirror_mode": {
    "name": "ipython",
    "version": 3
   },
   "file_extension": ".py",
   "mimetype": "text/x-python",
   "name": "python",
   "nbconvert_exporter": "python",
   "pygments_lexer": "ipython3",
   "version": "3.11.4"
  }
 },
 "nbformat": 4,
 "nbformat_minor": 5
}
