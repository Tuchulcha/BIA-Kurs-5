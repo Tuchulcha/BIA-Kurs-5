{
 "cells": [
  {
   "cell_type": "code",
   "execution_count": 2,
   "id": "a37f1e66",
   "metadata": {},
   "outputs": [
    {
     "name": "stdout",
     "output_type": "stream",
     "text": [
      "Initial number of rows: 3761\n",
      "Final number of rows: 2410\n",
      "1351 duplicate rows removed.\n"
     ]
    }
   ],
   "source": [
    "import pandas as pd\n",
    "\n",
    "# Read the CSV file into a DataFrame\n",
    "df = pd.read_csv('f:/YinYang/BIA utbildning/Kurs 5 Design och Visualisering/Vecka 2/Data Science Salary 2021 to 2023.csv')\n",
    "\n",
    "# Check the initial size of the DataFrame\n",
    "initial_size = df.shape[0]\n",
    "print(f\"Initial number of rows: {initial_size}\")\n",
    "\n",
    "# Remove duplicate rows\n",
    "df = df.drop_duplicates()\n",
    "\n",
    "# Check the size of the DataFrame after removing duplicates\n",
    "final_size = df.shape[0]\n",
    "print(f\"Final number of rows: {final_size}\")\n",
    "\n",
    "# Calculate and print the number of duplicates removed\n",
    "duplicates_removed = initial_size - final_size\n",
    "print(f\"{duplicates_removed} duplicate rows removed.\")\n",
    "\n",
    "# Write the DataFrame back to a CSV file\n",
    "df.to_csv('f:/YinYang/BIA utbildning/Kurs 5 Design och Visualisering/Vecka 2/DS_Salary_2021-2023_withoutDuplicates.csv', index=False)\n"
   ]
  },
  {
   "cell_type": "code",
   "execution_count": null,
   "id": "4a72a708",
   "metadata": {},
   "outputs": [],
   "source": []
  }
 ],
 "metadata": {
  "kernelspec": {
   "display_name": "Python 3 (ipykernel)",
   "language": "python",
   "name": "python3"
  },
  "language_info": {
   "codemirror_mode": {
    "name": "ipython",
    "version": 3
   },
   "file_extension": ".py",
   "mimetype": "text/x-python",
   "name": "python",
   "nbconvert_exporter": "python",
   "pygments_lexer": "ipython3",
   "version": "3.11.4"
  }
 },
 "nbformat": 4,
 "nbformat_minor": 5
}
