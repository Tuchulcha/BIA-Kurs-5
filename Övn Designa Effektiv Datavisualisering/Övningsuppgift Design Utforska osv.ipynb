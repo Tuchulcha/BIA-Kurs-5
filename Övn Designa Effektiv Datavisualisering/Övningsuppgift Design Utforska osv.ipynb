{
 "cells": [
  {
   "cell_type": "code",
   "execution_count": 1,
   "id": "17c1a0be",
   "metadata": {},
   "outputs": [],
   "source": [
    "import pandas as pd"
   ]
  },
  {
   "cell_type": "code",
   "execution_count": 2,
   "id": "63ea40fc",
   "metadata": {},
   "outputs": [],
   "source": [
    "#Data med Cost of Living Index\n",
    "COLI = pd.read_csv('F:/YinYang/BIA utbildning/Kurs 5 Design och Visualisering/Vecka 2/Cost_of_Living_Index_2022_withCountryISO.csv')"
   ]
  },
  {
   "cell_type": "code",
   "execution_count": 3,
   "id": "1d4f0549",
   "metadata": {},
   "outputs": [
    {
     "name": "stdout",
     "output_type": "stream",
     "text": [
      "Index(['Rank', 'Country', 'Cost of Living Index', 'Rent Index',\n",
      "       'Cost of Living Plus Rent Index', 'Groceries Index',\n",
      "       'Restaurant Price Index', 'Local Purchasing Power Index',\n",
      "       'Country Code'],\n",
      "      dtype='object')\n"
     ]
    }
   ],
   "source": [
    "print(COLI.columns)"
   ]
  },
  {
   "cell_type": "code",
   "execution_count": 4,
   "id": "4bab5db0",
   "metadata": {},
   "outputs": [],
   "source": [
    "#Data med Lön för Data Scientists\n",
    "SALARY = pd.read_csv('F:/YinYang/BIA utbildning/Kurs 5 Design och Visualisering/Vecka 2/Data Science Salary 2021 to 2023.csv')"
   ]
  },
  {
   "cell_type": "code",
   "execution_count": 5,
   "id": "d03fd284",
   "metadata": {},
   "outputs": [
    {
     "name": "stdout",
     "output_type": "stream",
     "text": [
      "Index(['work_year', 'experience_level', 'employment_type', 'job_title',\n",
      "       'salary', 'salary_currency', 'salary_in_usd', 'company_location',\n",
      "       'company_size'],\n",
      "      dtype='object')\n"
     ]
    }
   ],
   "source": [
    "print(SALARY.columns)"
   ]
  },
  {
   "cell_type": "code",
   "execution_count": 6,
   "id": "e3354bdd",
   "metadata": {},
   "outputs": [
    {
     "name": "stdout",
     "output_type": "stream",
     "text": [
      "    Country Code  Cost of Living Index\n",
      "0             AF                 20.37\n",
      "1             AL                 35.50\n",
      "2             DZ                 26.87\n",
      "3             AR                 34.69\n",
      "4             AM                 33.89\n",
      "..           ...                   ...\n",
      "134           VE                 43.20\n",
      "135           VN                 37.48\n",
      "136           YE                 53.14\n",
      "137           ZM                 33.04\n",
      "138           ZW                 45.68\n",
      "\n",
      "[139 rows x 2 columns]\n"
     ]
    }
   ],
   "source": [
    "print(COLI[['Country Code', 'Cost of Living Index']])"
   ]
  },
  {
   "cell_type": "code",
   "execution_count": null,
   "id": "98ff942e",
   "metadata": {},
   "outputs": [],
   "source": [
    "unika_titlar =\n",
    "unika_experience ="
   ]
  }
 ],
 "metadata": {
  "kernelspec": {
   "display_name": "Python 3 (ipykernel)",
   "language": "python",
   "name": "python3"
  },
  "language_info": {
   "codemirror_mode": {
    "name": "ipython",
    "version": 3
   },
   "file_extension": ".py",
   "mimetype": "text/x-python",
   "name": "python",
   "nbconvert_exporter": "python",
   "pygments_lexer": "ipython3",
   "version": "3.11.4"
  }
 },
 "nbformat": 4,
 "nbformat_minor": 5
}
