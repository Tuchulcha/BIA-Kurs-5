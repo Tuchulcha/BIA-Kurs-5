{
 "cells": [
  {
   "cell_type": "code",
   "execution_count": 1,
   "id": "177e3b2c",
   "metadata": {},
   "outputs": [
    {
     "name": "stdout",
     "output_type": "stream",
     "text": [
      "Remaining outliers: 47148\n"
     ]
    }
   ],
   "source": [
    "import pandas as pd\n",
    "\n",
    "# 1. Loading the Data\n",
    "df = pd.read_csv('F:\\YinYang\\BIA utbildning\\Kurs 5 Design och Visualisering\\city_temperature.csv', usecols=lambda column: column != 'State')\n",
    "\n",
    "# 2. Handling Outliers (First Level)\n",
    "median_temps = df.groupby(['City', 'Year', 'Month'])['AvgTemperature'].median().reset_index()\n",
    "outliers = df['AvgTemperature'] == -99\n",
    "df_merged = pd.merge(df[outliers], median_temps, on=['City', 'Year', 'Month'], how='left', suffixes=('', '_median'))\n",
    "df.loc[df_merged.index, 'AvgTemperature'] = df_merged['AvgTemperature_median']\n",
    "\n",
    "# 3. Handling Outliers (Second Level)\n",
    "df_filtered = df[df['AvgTemperature'] != -99].sort_values(['Country', 'Year', 'Month', 'Day'])\n",
    "df_filtered['RollingMedian'] = df_filtered.groupby(['Country', 'Year', 'Month'])['AvgTemperature'].transform(\n",
    "    lambda x: x.rolling(window=11, min_periods=1, center=True).median()\n",
    ")\n",
    "df_rolling_medians = df_filtered[['Country', 'Year', 'Month', 'Day', 'RollingMedian']].drop_duplicates()\n",
    "df_merged_rolling = pd.merge(df[df['AvgTemperature'] == -99], df_rolling_medians, on=['Country', 'Year', 'Month', 'Day'], how='left')\n",
    "df.loc[df_merged_rolling.index, 'AvgTemperature'] = df_merged_rolling['RollingMedian']\n",
    "\n",
    "# 4. Handling Outliers (Third Level)\n",
    "median_temps_city_month = df[df['AvgTemperature'] != -99].groupby(['City', 'Month'])['AvgTemperature'].median().reset_index()\n",
    "df_merged_city_month = pd.merge(df[df['AvgTemperature'] == -99], median_temps_city_month, on=['City', 'Month'], how='left', suffixes=('', '_median_city_month'))\n",
    "df.loc[df_merged_city_month.index, 'AvgTemperature'] = df_merged_city_month['AvgTemperature_median_city_month']\n",
    "\n",
    "# 5. Handling Outliers (Fourth Level) - Check previous years of the same months for the city for none -99 values and calculate the mean and replace the -99 value with this value\n",
    "mean_temps_city_month_all_years = df[df['AvgTemperature'] != -99].groupby(['City', 'Month'])['AvgTemperature'].mean().reset_index()\n",
    "df_merged_city_month_all_years = pd.merge(df[df['AvgTemperature'] == -99], mean_temps_city_month_all_years, on=['City', 'Month'], how='left', suffixes=('', '_mean_city_month_all_years'))\n",
    "df.loc[df_merged_city_month_all_years.index, 'AvgTemperature'] = df_merged_city_month_all_years['AvgTemperature_mean_city_month_all_years']\n",
    "\n",
    "# Calculate the mean temperatures for each City, disregarding -99 values\n",
    "mean_temps_city = df[df['AvgTemperature'] != -99].groupby('City')['AvgTemperature'].mean().reset_index()\n",
    "\n",
    "# Identify rows with -99 values and merge them with the calculated mean temperatures\n",
    "outliers = df['AvgTemperature'] == -99\n",
    "df_merged = pd.merge(df[outliers], mean_temps_city, on='City', how='left', suffixes=('', '_mean'))\n",
    "\n",
    "# Update the original DataFrame with these new mean temperatures\n",
    "df.loc[df_merged.index, 'AvgTemperature'] = df_merged['AvgTemperature_mean']\n",
    "\n",
    "# Check if any -99 values are left\n",
    "remaining_outliers = (df['AvgTemperature'] == -99).sum()\n",
    "print(f\"Remaining outliers: {remaining_outliers}\")\n",
    "\n",
    "df.to_csv('F:\\YinYang\\BIA utbildning\\Kurs 5 Design och Visualisering\\city_temperature_cleaned_data.csv', index=False)"
   ]
  },
  {
   "cell_type": "code",
   "execution_count": null,
   "id": "b41043f9",
   "metadata": {},
   "outputs": [],
   "source": []
  }
 ],
 "metadata": {
  "kernelspec": {
   "display_name": "Python 3 (ipykernel)",
   "language": "python",
   "name": "python3"
  },
  "language_info": {
   "codemirror_mode": {
    "name": "ipython",
    "version": 3
   },
   "file_extension": ".py",
   "mimetype": "text/x-python",
   "name": "python",
   "nbconvert_exporter": "python",
   "pygments_lexer": "ipython3",
   "version": "3.11.4"
  }
 },
 "nbformat": 4,
 "nbformat_minor": 5
}
