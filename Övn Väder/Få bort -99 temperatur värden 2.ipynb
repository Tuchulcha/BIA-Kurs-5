{
 "cells": [
  {
   "cell_type": "code",
   "execution_count": 1,
   "id": "8d4344a0",
   "metadata": {},
   "outputs": [],
   "source": [
    "import pandas as pd\n",
    "import numpy as np"
   ]
  },
  {
   "cell_type": "code",
   "execution_count": 2,
   "id": "11642b98",
   "metadata": {},
   "outputs": [],
   "source": [
    "# 1. Loading the Data\n",
    "df = pd.read_csv('F:\\YinYang\\BIA utbildning\\Kurs 5 Design och Visualisering\\Vecka 3\\city_temperature_notcleaned_data.csv')"
   ]
  },
  {
   "cell_type": "code",
   "execution_count": 3,
   "id": "b16d8787",
   "metadata": {},
   "outputs": [
    {
     "data": {
      "text/plain": [
       "0          53.269100\n",
       "1          53.269100\n",
       "2          53.269100\n",
       "3          53.269100\n",
       "4          73.406714\n",
       "             ...    \n",
       "2906322    82.400000\n",
       "2906323    81.600000\n",
       "2906324    84.200000\n",
       "2906325    83.800000\n",
       "2906326    83.600000\n",
       "Name: AvgTemperature, Length: 2906327, dtype: float64"
      ]
     },
     "execution_count": 3,
     "metadata": {},
     "output_type": "execute_result"
    }
   ],
   "source": [
    "# 1.25 Replace -99 with NaN\n",
    "df['AvgTemperature'].replace(-99, np.NaN)"
   ]
  },
  {
   "cell_type": "code",
   "execution_count": 4,
   "id": "4a99d41c",
   "metadata": {},
   "outputs": [
    {
     "name": "stdout",
     "output_type": "stream",
     "text": [
      "Number of StartNaNs is: 55656\n"
     ]
    }
   ],
   "source": [
    "# 1.5 Checking for NaNs\n",
    "StartNaNs = df['AvgTemperature'].isna().sum()\n",
    "print(f\"Number of StartNaNs is: {StartNaNs}\")"
   ]
  },
  {
   "cell_type": "code",
   "execution_count": 5,
   "id": "6b62a25c",
   "metadata": {},
   "outputs": [
    {
     "name": "stdout",
     "output_type": "stream",
     "text": [
      "Remaining NaNs is: 0\n"
     ]
    }
   ],
   "source": [
    "# 2. Replace NaNs with closest value\n",
    "#df.fillna(method='bfill', inplace=True) #pad/ffill och bfill går fram eller bak, jag vill gå till närmaste! \n",
    "df.interpolate(method='nearest', inplace=True) #Bättre.\n",
    "NaNs = df['AvgTemperature'].isna().sum()\n",
    "print(f\"Remaining NaNs is: {NaNs}\")"
   ]
  },
  {
   "cell_type": "code",
   "execution_count": 6,
   "id": "3ae550bf",
   "metadata": {},
   "outputs": [],
   "source": [
    "# 3. Spara data i ny fil\n",
    "df.to_csv('F:\\YinYang\\BIA utbildning\\Kurs 5 Design och Visualisering\\Vecka 3\\city_temperature_cleaned_data.csv')"
   ]
  },
  {
   "cell_type": "code",
   "execution_count": null,
   "id": "a6a12365",
   "metadata": {},
   "outputs": [],
   "source": []
  }
 ],
 "metadata": {
  "kernelspec": {
   "display_name": "Python 3 (ipykernel)",
   "language": "python",
   "name": "python3"
  },
  "language_info": {
   "codemirror_mode": {
    "name": "ipython",
    "version": 3
   },
   "file_extension": ".py",
   "mimetype": "text/x-python",
   "name": "python",
   "nbconvert_exporter": "python",
   "pygments_lexer": "ipython3",
   "version": "3.11.4"
  }
 },
 "nbformat": 4,
 "nbformat_minor": 5
}
